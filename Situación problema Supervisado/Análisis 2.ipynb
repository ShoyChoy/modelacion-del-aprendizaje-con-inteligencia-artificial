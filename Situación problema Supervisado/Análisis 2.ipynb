{
 "cells": [
  {
   "cell_type": "markdown",
   "metadata": {
    "collapsed": false
   },
   "source": [
    "# Análisis de datos de actividad física con aprendizaje supervisado. Archivo 2.\n"
   ]
  },
  {
   "cell_type": "code",
   "execution_count": 1,
   "metadata": {
    "collapsed": false
   },
   "outputs": [
   ],
   "source": [
    "import pandas as pd\n",
    "import matplotlib.pyplot as plt\n",
    "from sklearn import svm\n",
    "from sklearn.neighbors import KNeighborsClassifier\n",
    "from sklearn.neural_network import MLPClassifier\n",
    "from sklearn.ensemble import RandomForestClassifier\n",
    "from sklearn.naive_bayes import GaussianNB\n",
    "from sklearn.model_selection import KFold\n",
    "import numpy as np\n",
    "from sklearn.metrics import accuracy_score\n",
    "from sklearn.metrics import precision_score\n",
    "from sklearn.metrics import recall_score\n",
    "from sklearn.model_selection import GridSearchCV\n",
    "from sklearn.feature_selection import SequentialFeatureSelector"
   ]
  },
  {
   "cell_type": "code",
   "execution_count": 2,
   "metadata": {
    "collapsed": false
   },
   "outputs": [
   ],
   "source": [
    "df = pd.read_csv('data_set3.txt', header = None, delimiter = \" \")"
   ]
  },
  {
   "cell_type": "code",
   "execution_count": 3,
   "metadata": {
    "collapsed": false
   },
   "outputs": [
    {
     "data": {
      "text/html": [
       "<div>\n",
       "<style scoped>\n",
       "    .dataframe tbody tr th:only-of-type {\n",
       "        vertical-align: middle;\n",
       "    }\n",
       "\n",
       "    .dataframe tbody tr th {\n",
       "        vertical-align: top;\n",
       "    }\n",
       "\n",
       "    .dataframe thead th {\n",
       "        text-align: right;\n",
       "    }\n",
       "</style>\n",
       "<table border=\"1\" class=\"dataframe\">\n",
       "  <thead>\n",
       "    <tr style=\"text-align: right;\">\n",
       "      <th></th>\n",
       "      <th>0</th>\n",
       "      <th>1</th>\n",
       "      <th>2</th>\n",
       "      <th>3</th>\n",
       "      <th>4</th>\n",
       "      <th>5</th>\n",
       "      <th>6</th>\n",
       "      <th>7</th>\n",
       "      <th>8</th>\n",
       "      <th>9</th>\n",
       "      <th>...</th>\n",
       "      <th>21</th>\n",
       "      <th>22</th>\n",
       "      <th>23</th>\n",
       "      <th>24</th>\n",
       "      <th>25</th>\n",
       "      <th>26</th>\n",
       "      <th>27</th>\n",
       "      <th>28</th>\n",
       "      <th>29</th>\n",
       "      <th>30</th>\n",
       "    </tr>\n",
       "  </thead>\n",
       "  <tbody>\n",
       "    <tr>\n",
       "      <th>0</th>\n",
       "      <td>2.0</td>\n",
       "      <td>-7.139000</td>\n",
       "      <td>4.193105</td>\n",
       "      <td>-1.709053</td>\n",
       "      <td>-0.017691</td>\n",
       "      <td>-4.535091</td>\n",
       "      <td>5.643398</td>\n",
       "      <td>-1.461170</td>\n",
       "      <td>-0.364405</td>\n",
       "      <td>0.061727</td>\n",
       "      <td>...</td>\n",
       "      <td>1.522730</td>\n",
       "      <td>0.325388</td>\n",
       "      <td>0.227916</td>\n",
       "      <td>0.040522</td>\n",
       "      <td>0.691939</td>\n",
       "      <td>0.739232</td>\n",
       "      <td>13.062190</td>\n",
       "      <td>8.604010</td>\n",
       "      <td>7.408485</td>\n",
       "      <td>2.140024</td>\n",
       "    </tr>\n",
       "    <tr>\n",
       "      <th>1</th>\n",
       "      <td>2.0</td>\n",
       "      <td>-6.739636</td>\n",
       "      <td>6.520351</td>\n",
       "      <td>-1.434409</td>\n",
       "      <td>-0.183291</td>\n",
       "      <td>-13.230455</td>\n",
       "      <td>9.966469</td>\n",
       "      <td>-0.159421</td>\n",
       "      <td>-1.152595</td>\n",
       "      <td>0.410636</td>\n",
       "      <td>...</td>\n",
       "      <td>21.670515</td>\n",
       "      <td>3.867360</td>\n",
       "      <td>0.508262</td>\n",
       "      <td>0.045961</td>\n",
       "      <td>0.718172</td>\n",
       "      <td>2.325628</td>\n",
       "      <td>5.405773</td>\n",
       "      <td>4.167626</td>\n",
       "      <td>2.986897</td>\n",
       "      <td>1.235623</td>\n",
       "    </tr>\n",
       "    <tr>\n",
       "      <th>2</th>\n",
       "      <td>2.0</td>\n",
       "      <td>0.282727</td>\n",
       "      <td>4.660952</td>\n",
       "      <td>-1.013207</td>\n",
       "      <td>0.326348</td>\n",
       "      <td>-10.564364</td>\n",
       "      <td>13.394672</td>\n",
       "      <td>-1.171451</td>\n",
       "      <td>-0.752986</td>\n",
       "      <td>-2.316818</td>\n",
       "      <td>...</td>\n",
       "      <td>29.986736</td>\n",
       "      <td>3.737845</td>\n",
       "      <td>2.014653</td>\n",
       "      <td>0.725725</td>\n",
       "      <td>0.823706</td>\n",
       "      <td>8.068543</td>\n",
       "      <td>1.978489</td>\n",
       "      <td>0.295042</td>\n",
       "      <td>0.101880</td>\n",
       "      <td>0.037949</td>\n",
       "    </tr>\n",
       "    <tr>\n",
       "      <th>3</th>\n",
       "      <td>2.0</td>\n",
       "      <td>-3.513364</td>\n",
       "      <td>1.817109</td>\n",
       "      <td>-0.499106</td>\n",
       "      <td>0.829376</td>\n",
       "      <td>-5.347727</td>\n",
       "      <td>4.262153</td>\n",
       "      <td>-1.107194</td>\n",
       "      <td>-0.556678</td>\n",
       "      <td>-0.132636</td>\n",
       "      <td>...</td>\n",
       "      <td>0.563271</td>\n",
       "      <td>0.119175</td>\n",
       "      <td>0.011387</td>\n",
       "      <td>0.010988</td>\n",
       "      <td>0.381943</td>\n",
       "      <td>2.109827</td>\n",
       "      <td>0.798970</td>\n",
       "      <td>1.500521</td>\n",
       "      <td>0.823234</td>\n",
       "      <td>0.350271</td>\n",
       "    </tr>\n",
       "    <tr>\n",
       "      <th>4</th>\n",
       "      <td>2.0</td>\n",
       "      <td>-0.363545</td>\n",
       "      <td>3.045831</td>\n",
       "      <td>-0.949825</td>\n",
       "      <td>-0.734333</td>\n",
       "      <td>-13.347636</td>\n",
       "      <td>13.819354</td>\n",
       "      <td>0.680512</td>\n",
       "      <td>-1.330450</td>\n",
       "      <td>-1.780818</td>\n",
       "      <td>...</td>\n",
       "      <td>16.437280</td>\n",
       "      <td>10.302964</td>\n",
       "      <td>1.491813</td>\n",
       "      <td>0.523613</td>\n",
       "      <td>1.954866</td>\n",
       "      <td>13.893470</td>\n",
       "      <td>15.766455</td>\n",
       "      <td>10.367425</td>\n",
       "      <td>2.781880</td>\n",
       "      <td>1.277786</td>\n",
       "    </tr>\n",
       "  </tbody>\n",
       "</table>\n",
       "<p>5 rows × 31 columns</p>\n",
       "</div>"
      ],
      "text/plain": [
       "    0         1         2         3         4          5          6   \\\n",
       "0  2.0 -7.139000  4.193105 -1.709053 -0.017691  -4.535091   5.643398   \n",
       "1  2.0 -6.739636  6.520351 -1.434409 -0.183291 -13.230455   9.966469   \n",
       "2  2.0  0.282727  4.660952 -1.013207  0.326348 -10.564364  13.394672   \n",
       "3  2.0 -3.513364  1.817109 -0.499106  0.829376  -5.347727   4.262153   \n",
       "4  2.0 -0.363545  3.045831 -0.949825 -0.734333 -13.347636  13.819354   \n",
       "\n",
       "         7         8         9   ...         21         22        23  \\\n",
       "0 -1.461170 -0.364405  0.061727  ...   1.522730   0.325388  0.227916   \n",
       "1 -0.159421 -1.152595  0.410636  ...  21.670515   3.867360  0.508262   \n",
       "2 -1.171451 -0.752986 -2.316818  ...  29.986736   3.737845  2.014653   \n",
       "3 -1.107194 -0.556678 -0.132636  ...   0.563271   0.119175  0.011387   \n",
       "4  0.680512 -1.330450 -1.780818  ...  16.437280  10.302964  1.491813   \n",
       "\n",
       "         24        25         26         27         28        29        30  \n",
       "0  0.040522  0.691939   0.739232  13.062190   8.604010  7.408485  2.140024  \n",
       "1  0.045961  0.718172   2.325628   5.405773   4.167626  2.986897  1.235623  \n",
       "2  0.725725  0.823706   8.068543   1.978489   0.295042  0.101880  0.037949  \n",
       "3  0.010988  0.381943   2.109827   0.798970   1.500521  0.823234  0.350271  \n",
       "4  0.523613  1.954866  13.893470  15.766455  10.367425  2.781880  1.277786  \n",
       "\n",
       "[5 rows x 31 columns]"
      ]
     },
     "execution_count": 3,
     "metadata": {
     },
     "output_type": "execute_result"
    }
   ],
   "source": [
    "df.head()"
   ]
  },
  {
   "cell_type": "code",
   "execution_count": 4,
   "metadata": {
    "collapsed": false
   },
   "outputs": [
    {
     "data": {
      "text/plain": [
       "(517, 31)"
      ]
     },
     "execution_count": 4,
     "metadata": {
     },
     "output_type": "execute_result"
    }
   ],
   "source": [
    "df.shape"
   ]
  },
  {
   "cell_type": "code",
   "execution_count": 5,
   "metadata": {
    "collapsed": false
   },
   "outputs": [
   ],
   "source": [
    "y = df.iloc[:,0]\n",
    "X = df.iloc[:,1:]"
   ]
  },
  {
   "cell_type": "code",
   "execution_count": 6,
   "metadata": {
    "collapsed": false
   },
   "outputs": [
    {
     "data": {
      "text/plain": [
       "1.0    132\n",
       "2.0    131\n",
       "3.0    128\n",
       "4.0    126\n",
       "Name: 0, dtype: int64"
      ]
     },
     "execution_count": 6,
     "metadata": {
     },
     "output_type": "execute_result"
    }
   ],
   "source": [
    "y.value_counts()"
   ]
  },
  {
   "cell_type": "markdown",
   "metadata": {
    "collapsed": false
   },
   "source": [
    "Donde 1 son desplantes, 2 es correr en círculos, 3 es quedarse quieto parado y 4 es rodar en el piso."
   ]
  },
  {
   "cell_type": "markdown",
   "metadata": {
    "collapsed": false
   },
   "source": [
    "Se aprecia que las clases están aproximadamente balanceadas."
   ]
  },
  {
   "cell_type": "code",
   "execution_count": 7,
   "metadata": {
    "collapsed": false
   },
   "outputs": [
   ],
   "source": [
    "kf = KFold(n_splits=5, shuffle = True)"
   ]
  },
  {
   "cell_type": "markdown",
   "metadata": {
    "collapsed": false
   },
   "source": [
    "## Evaluación del rendimiento de los modelos de clasificación"
   ]
  },
  {
   "cell_type": "markdown",
   "metadata": {
    "collapsed": false
   },
   "source": [
    "### SVM"
   ]
  },
  {
   "cell_type": "code",
   "execution_count": 8,
   "metadata": {
    "collapsed": false
   },
   "outputs": [
   ],
   "source": [
    "clf = svm.SVC(kernel = 'linear')\n",
    "\n",
    "acc = 0\n",
    "rec = np.array([0., 0., 0., 0.])\n",
    "pre = np.array([0., 0., 0., 0.])\n",
    "\n",
    "for train_index, test_index in kf.split(X):\n",
    "    \n",
    "    # Training phase\n",
    "    X_train = X.iloc[train_index, :]\n",
    "    y_train = y.iloc[train_index]\n",
    "    clf.fit(X_train, y_train)\n",
    "\n",
    "    # Test phase\n",
    "    X_test = X.iloc[test_index, :]\n",
    "    y_test = y.iloc[test_index]    \n",
    "    y_pred = clf.predict(X_test)\n",
    "    \n",
    "    acc+=(accuracy_score(y_test, y_pred))\n",
    "    rec+=(recall_score(y_test, y_pred, average=None))\n",
    "    pre+=(precision_score(y_test, y_pred, average=None))\n",
    "    \n",
    "acc = acc/5\n",
    "rec = rec/5\n",
    "pre = pre/5"
   ]
  },
  {
   "cell_type": "code",
   "execution_count": 9,
   "metadata": {
    "collapsed": false
   },
   "outputs": [
    {
     "name": "stdout",
     "output_type": "stream",
     "text": [
      "Accuracy:  0.9091486183719194\n",
      "Recall:  [0.90240537 0.9074127  1.         0.83037231]\n",
      "Precision:  [0.85673981 0.9133514  1.         0.86127147]\n"
     ]
    }
   ],
   "source": [
    "print(\"Accuracy: \",acc)\n",
    "print(\"Recall: \",rec)\n",
    "print(\"Precision: \",pre)"
   ]
  },
  {
   "cell_type": "markdown",
   "metadata": {
    "collapsed": false
   },
   "source": [
    "### K-NN"
   ]
  },
  {
   "cell_type": "code",
   "execution_count": 10,
   "metadata": {
    "collapsed": false
   },
   "outputs": [
   ],
   "source": [
    "clf = KNeighborsClassifier(n_neighbors=3)\n",
    "\n",
    "acc = 0\n",
    "rec = np.array([0., 0., 0., 0.])\n",
    "pre = np.array([0., 0., 0., 0.])\n",
    "\n",
    "for train_index, test_index in kf.split(X):\n",
    "    \n",
    "    # Training phase\n",
    "    X_train = X.iloc[train_index, :]\n",
    "    y_train = y.iloc[train_index]\n",
    "    clf.fit(X_train, y_train)\n",
    "\n",
    "    # Test phase\n",
    "    X_test = X.iloc[test_index, :]\n",
    "    y_test = y.iloc[test_index]    \n",
    "    y_pred = clf.predict(X_test)\n",
    "    \n",
    "    acc+=(accuracy_score(y_test, y_pred))\n",
    "    rec+=(recall_score(y_test, y_pred, average=None))\n",
    "    pre+=(precision_score(y_test, y_pred, average=None))\n",
    "    \n",
    "acc = acc/5\n",
    "rec = rec/5\n",
    "pre = pre/5"
   ]
  },
  {
   "cell_type": "code",
   "execution_count": 11,
   "metadata": {
    "collapsed": false
   },
   "outputs": [
    {
     "name": "stdout",
     "output_type": "stream",
     "text": [
      "Accuracy:  0.8993838685586258\n",
      "Recall:  [0.90770762 0.9234086  1.         0.76226545]\n",
      "Precision:  [0.8085121  0.90358974 0.96885578 0.93581818]\n"
     ]
    }
   ],
   "source": [
    "print(\"Accuracy: \",acc)\n",
    "print(\"Recall: \",rec)\n",
    "print(\"Precision: \",pre)"
   ]
  },
  {
   "cell_type": "markdown",
   "metadata": {
    "collapsed": false
   },
   "source": [
    "### MLP"
   ]
  },
  {
   "cell_type": "code",
   "execution_count": 12,
   "metadata": {
    "collapsed": false
   },
   "outputs": [
    {
     "name": "stderr",
     "output_type": "stream",
     "text": [
      "/usr/local/lib/python3.8/dist-packages/sklearn/neural_network/_multilayer_perceptron.py:614: ConvergenceWarning: Stochastic Optimizer: Maximum iterations (500) reached and the optimization hasn't converged yet.\n",
      "  warnings.warn(\n"
     ]
    },
    {
     "name": "stderr",
     "output_type": "stream",
     "text": [
      "/usr/local/lib/python3.8/dist-packages/sklearn/neural_network/_multilayer_perceptron.py:614: ConvergenceWarning: Stochastic Optimizer: Maximum iterations (500) reached and the optimization hasn't converged yet.\n",
      "  warnings.warn(\n"
     ]
    },
    {
     "name": "stderr",
     "output_type": "stream",
     "text": [
      "/usr/local/lib/python3.8/dist-packages/sklearn/neural_network/_multilayer_perceptron.py:614: ConvergenceWarning: Stochastic Optimizer: Maximum iterations (500) reached and the optimization hasn't converged yet.\n",
      "  warnings.warn(\n"
     ]
    }
   ],
   "source": [
    "clf = MLPClassifier(hidden_layer_sizes = (10,10),max_iter=500)\n",
    "\n",
    "acc = 0\n",
    "rec = np.array([0., 0., 0., 0.])\n",
    "pre = np.array([0., 0., 0., 0.])\n",
    "\n",
    "for train_index, test_index in kf.split(X):\n",
    "    \n",
    "    # Training phase\n",
    "    X_train = X.iloc[train_index, :]\n",
    "    y_train = y.iloc[train_index]\n",
    "    clf.fit(X_train, y_train)\n",
    "\n",
    "    # Test phase\n",
    "    X_test = X.iloc[test_index, :]\n",
    "    y_test = y.iloc[test_index]    \n",
    "    y_pred = clf.predict(X_test)\n",
    "    \n",
    "    acc+=(accuracy_score(y_test, y_pred))\n",
    "    rec+=(recall_score(y_test, y_pred, average=None))\n",
    "    pre+=(precision_score(y_test, y_pred, average=None))\n",
    "    \n",
    "acc = acc/5\n",
    "rec = rec/5\n",
    "pre = pre/5"
   ]
  },
  {
   "cell_type": "code",
   "execution_count": 13,
   "metadata": {
    "collapsed": false
   },
   "outputs": [
    {
     "name": "stdout",
     "output_type": "stream",
     "text": [
      "Accuracy:  0.9129947722180731\n",
      "Recall:  [0.87751731 0.89349369 1.         0.88813929]\n",
      "Precision:  [0.89864921 0.93803419 0.99354839 0.82448593]\n"
     ]
    }
   ],
   "source": [
    "print(\"Accuracy: \",acc)\n",
    "print(\"Recall: \",rec)\n",
    "print(\"Precision: \",pre)"
   ]
  },
  {
   "cell_type": "markdown",
   "metadata": {
    "collapsed": false
   },
   "source": [
    "### Random Forest"
   ]
  },
  {
   "cell_type": "code",
   "execution_count": 14,
   "metadata": {
    "collapsed": false
   },
   "outputs": [
   ],
   "source": [
    "clf = RandomForestClassifier(max_depth=25)\n",
    "\n",
    "acc = 0\n",
    "rec = np.array([0., 0., 0., 0.])\n",
    "pre = np.array([0., 0., 0., 0.])\n",
    "\n",
    "for train_index, test_index in kf.split(X):\n",
    "    \n",
    "    # Training phase\n",
    "    X_train = X.iloc[train_index, :]\n",
    "    y_train = y.iloc[train_index]\n",
    "    clf.fit(X_train, y_train)\n",
    "\n",
    "    # Test phase\n",
    "    X_test = X.iloc[test_index, :]\n",
    "    y_test = y.iloc[test_index]    \n",
    "    y_pred = clf.predict(X_test)\n",
    "    \n",
    "    acc+=(accuracy_score(y_test, y_pred))\n",
    "    rec+=(recall_score(y_test, y_pred, average=None))\n",
    "    pre+=(precision_score(y_test, y_pred, average=None))\n",
    "    \n",
    "acc = acc/5\n",
    "rec = rec/5\n",
    "pre = pre/5"
   ]
  },
  {
   "cell_type": "code",
   "execution_count": 15,
   "metadata": {
    "collapsed": false
   },
   "outputs": [
    {
     "name": "stdout",
     "output_type": "stream",
     "text": [
      "Accuracy:  0.9304518297236744\n",
      "Recall:  [0.89859307 0.95279388 1.         0.88172727]\n",
      "Precision:  [0.88120154 0.91056309 1.         0.93555556]\n"
     ]
    }
   ],
   "source": [
    "print(\"Accuracy: \",acc)\n",
    "print(\"Recall: \",rec)\n",
    "print(\"Precision: \",pre)"
   ]
  },
  {
   "cell_type": "markdown",
   "metadata": {
    "collapsed": false
   },
   "source": [
    "### Naive Bayes"
   ]
  },
  {
   "cell_type": "code",
   "execution_count": 16,
   "metadata": {
    "collapsed": false
   },
   "outputs": [
   ],
   "source": [
    "clf = GaussianNB()\n",
    "\n",
    "acc = 0\n",
    "rec = np.array([0., 0., 0., 0.])\n",
    "pre = np.array([0., 0., 0., 0.])\n",
    "\n",
    "for train_index, test_index in kf.split(X):\n",
    "    \n",
    "    # Training phase\n",
    "    X_train = X.iloc[train_index, :]\n",
    "    y_train = y.iloc[train_index]\n",
    "    clf.fit(X_train, y_train)\n",
    "\n",
    "    # Test phase\n",
    "    X_test = X.iloc[test_index, :]\n",
    "    y_test = y.iloc[test_index]    \n",
    "    y_pred = clf.predict(X_test)\n",
    "    \n",
    "    acc+=(accuracy_score(y_test, y_pred))\n",
    "    rec+=(recall_score(y_test, y_pred, average=None))\n",
    "    pre+=(precision_score(y_test, y_pred, average=None))\n",
    "    \n",
    "acc = acc/5\n",
    "rec = rec/5\n",
    "pre = pre/5"
   ]
  },
  {
   "cell_type": "code",
   "execution_count": 17,
   "metadata": {
    "collapsed": false
   },
   "outputs": [
    {
     "name": "stdout",
     "output_type": "stream",
     "text": [
      "Accuracy:  0.7717699775952204\n",
      "Recall:  [0.94170351 0.82979972 1.         0.29750551]\n",
      "Precision:  [0.56722519 0.8920632  1.         0.7809768 ]\n"
     ]
    }
   ],
   "source": [
    "print(\"Accuracy: \",acc)\n",
    "print(\"Recall: \",rec)\n",
    "print(\"Precision: \",pre)"
   ]
  },
  {
   "cell_type": "markdown",
   "metadata": {
    "collapsed": false
   },
   "source": [
    "## Hiperparámetros"
   ]
  },
  {
   "cell_type": "markdown",
   "metadata": {
    "collapsed": false
   },
   "source": [
    "### Hiperparámetros de cada clasificador"
   ]
  },
  {
   "cell_type": "markdown",
   "metadata": {
    "collapsed": false
   },
   "source": [
    "### SVM"
   ]
  },
  {
   "cell_type": "code",
   "execution_count": 18,
   "metadata": {
    "collapsed": false
   },
   "outputs": [
    {
     "data": {
      "text/plain": [
       "{'C': 1.0,\n",
       " 'break_ties': False,\n",
       " 'cache_size': 200,\n",
       " 'class_weight': None,\n",
       " 'coef0': 0.0,\n",
       " 'decision_function_shape': 'ovr',\n",
       " 'degree': 3,\n",
       " 'gamma': 'scale',\n",
       " 'kernel': 'rbf',\n",
       " 'max_iter': -1,\n",
       " 'probability': False,\n",
       " 'random_state': None,\n",
       " 'shrinking': True,\n",
       " 'tol': 0.001,\n",
       " 'verbose': False}"
      ]
     },
     "execution_count": 18,
     "metadata": {
     },
     "output_type": "execute_result"
    }
   ],
   "source": [
    "svm.SVC().get_params()"
   ]
  },
  {
   "cell_type": "markdown",
   "metadata": {
    "collapsed": false
   },
   "source": [
    "### K-NN"
   ]
  },
  {
   "cell_type": "code",
   "execution_count": 19,
   "metadata": {
    "collapsed": false
   },
   "outputs": [
    {
     "data": {
      "text/plain": [
       "{'algorithm': 'auto',\n",
       " 'leaf_size': 30,\n",
       " 'metric': 'minkowski',\n",
       " 'metric_params': None,\n",
       " 'n_jobs': None,\n",
       " 'n_neighbors': 5,\n",
       " 'p': 2,\n",
       " 'weights': 'uniform'}"
      ]
     },
     "execution_count": 19,
     "metadata": {
     },
     "output_type": "execute_result"
    }
   ],
   "source": [
    "KNeighborsClassifier().get_params()"
   ]
  },
  {
   "cell_type": "markdown",
   "metadata": {
    "collapsed": false
   },
   "source": [
    "### MLP"
   ]
  },
  {
   "cell_type": "code",
   "execution_count": 20,
   "metadata": {
    "collapsed": false
   },
   "outputs": [
    {
     "data": {
      "text/plain": [
       "{'activation': 'relu',\n",
       " 'alpha': 0.0001,\n",
       " 'batch_size': 'auto',\n",
       " 'beta_1': 0.9,\n",
       " 'beta_2': 0.999,\n",
       " 'early_stopping': False,\n",
       " 'epsilon': 1e-08,\n",
       " 'hidden_layer_sizes': (100,),\n",
       " 'learning_rate': 'constant',\n",
       " 'learning_rate_init': 0.001,\n",
       " 'max_fun': 15000,\n",
       " 'max_iter': 200,\n",
       " 'momentum': 0.9,\n",
       " 'n_iter_no_change': 10,\n",
       " 'nesterovs_momentum': True,\n",
       " 'power_t': 0.5,\n",
       " 'random_state': None,\n",
       " 'shuffle': True,\n",
       " 'solver': 'adam',\n",
       " 'tol': 0.0001,\n",
       " 'validation_fraction': 0.1,\n",
       " 'verbose': False,\n",
       " 'warm_start': False}"
      ]
     },
     "execution_count": 20,
     "metadata": {
     },
     "output_type": "execute_result"
    }
   ],
   "source": [
    "MLPClassifier().get_params()"
   ]
  },
  {
   "cell_type": "markdown",
   "metadata": {
    "collapsed": false
   },
   "source": [
    "### Random Forest"
   ]
  },
  {
   "cell_type": "code",
   "execution_count": 21,
   "metadata": {
    "collapsed": false
   },
   "outputs": [
    {
     "data": {
      "text/plain": [
       "{'bootstrap': True,\n",
       " 'ccp_alpha': 0.0,\n",
       " 'class_weight': None,\n",
       " 'criterion': 'gini',\n",
       " 'max_depth': None,\n",
       " 'max_features': 'auto',\n",
       " 'max_leaf_nodes': None,\n",
       " 'max_samples': None,\n",
       " 'min_impurity_decrease': 0.0,\n",
       " 'min_impurity_split': None,\n",
       " 'min_samples_leaf': 1,\n",
       " 'min_samples_split': 2,\n",
       " 'min_weight_fraction_leaf': 0.0,\n",
       " 'n_estimators': 100,\n",
       " 'n_jobs': None,\n",
       " 'oob_score': False,\n",
       " 'random_state': None,\n",
       " 'verbose': 0,\n",
       " 'warm_start': False}"
      ]
     },
     "execution_count": 21,
     "metadata": {
     },
     "output_type": "execute_result"
    }
   ],
   "source": [
    "RandomForestClassifier().get_params()"
   ]
  },
  {
   "cell_type": "markdown",
   "metadata": {
    "collapsed": false
   },
   "source": [
    "### Naive Bayes"
   ]
  },
  {
   "cell_type": "code",
   "execution_count": 22,
   "metadata": {
    "collapsed": false
   },
   "outputs": [
    {
     "data": {
      "text/plain": [
       "{'priors': None, 'var_smoothing': 1e-09}"
      ]
     },
     "execution_count": 22,
     "metadata": {
     },
     "output_type": "execute_result"
    }
   ],
   "source": [
    "GaussianNB().get_params()"
   ]
  },
  {
   "cell_type": "markdown",
   "metadata": {
    "collapsed": false
   },
   "source": [
    "### Hiperparámetros óptimos KNN"
   ]
  },
  {
   "cell_type": "code",
   "execution_count": 23,
   "metadata": {
    "collapsed": false,
    "scrolled": true
   },
   "outputs": [
    {
     "data": {
      "text/plain": [
       "GridSearchCV(estimator=KNeighborsClassifier(),\n",
       "             param_grid={'n_neighbors': array([1]), 'p': [1, 2, 3],\n",
       "                         'weights': ['uniform', 'distance']},\n",
       "             scoring='accuracy')"
      ]
     },
     "execution_count": 23,
     "metadata": {
     },
     "output_type": "execute_result"
    }
   ],
   "source": [
    "n_neigh = np.linspace(1,11,1).astype(int)\n",
    "mink = [1,2,3]\n",
    "w=['uniform', 'distance'] \n",
    "parameters = {'n_neighbors':n_neigh, 'p':mink, 'weights':w}\n",
    "neigh = KNeighborsClassifier()\n",
    "clf = GridSearchCV(neigh, parameters, scoring = 'accuracy')\n",
    "clf.fit(X, y)\n",
    "\n",
    "#print(accuracy_score())"
   ]
  },
  {
   "cell_type": "code",
   "execution_count": 24,
   "metadata": {
    "collapsed": false
   },
   "outputs": [
    {
     "data": {
      "text/plain": [
       "{'n_neighbors': 1, 'p': 1, 'weights': 'uniform'}"
      ]
     },
     "execution_count": 24,
     "metadata": {
     },
     "output_type": "execute_result"
    }
   ],
   "source": [
    "clf.best_params_"
   ]
  },
  {
   "cell_type": "code",
   "execution_count": 25,
   "metadata": {
    "collapsed": false
   },
   "outputs": [
    {
     "data": {
      "text/plain": [
       "0.8511202389843167"
      ]
     },
     "execution_count": 25,
     "metadata": {
     },
     "output_type": "execute_result"
    }
   ],
   "source": [
    "clf.best_score_"
   ]
  },
  {
   "cell_type": "code",
   "execution_count": 26,
   "metadata": {
    "collapsed": false
   },
   "outputs": [
   ],
   "source": [
    "clf = KNeighborsClassifier(n_neighbors=1,p=1)\n",
    "\n",
    "acc = 0\n",
    "rec = np.array([0., 0., 0., 0.])\n",
    "pre = np.array([0., 0., 0., 0.])\n",
    "\n",
    "for train_index, test_index in kf.split(X):\n",
    "    \n",
    "    # Training phase\n",
    "    X_train = X.iloc[train_index, :]\n",
    "    y_train = y.iloc[train_index]\n",
    "    clf.fit(X_train, y_train)\n",
    "\n",
    "    # Test phase\n",
    "    X_test = X.iloc[test_index, :]\n",
    "    y_test = y.iloc[test_index]    \n",
    "    y_pred = clf.predict(X_test)\n",
    "    \n",
    "    acc+=(accuracy_score(y_test, y_pred))\n",
    "    rec+=(recall_score(y_test, y_pred, average=None))\n",
    "    pre+=(precision_score(y_test, y_pred, average=None))\n",
    "    \n",
    "acc = acc/5\n",
    "rec = rec/5\n",
    "pre = pre/5"
   ]
  },
  {
   "cell_type": "code",
   "execution_count": 27,
   "metadata": {
    "collapsed": false
   },
   "outputs": [
    {
     "name": "stdout",
     "output_type": "stream",
     "text": [
      "Accuracy:  0.9014002987303957\n",
      "Recall:  [0.94521065 0.92237281 1.         0.7239387 ]\n",
      "Precision:  [0.81438956 0.8825     1.         0.95330225]\n"
     ]
    }
   ],
   "source": [
    "print(\"Accuracy: \",acc)\n",
    "print(\"Recall: \",rec)\n",
    "print(\"Precision: \",pre)"
   ]
  },
  {
   "cell_type": "markdown",
   "metadata": {
    "collapsed": false
   },
   "source": [
    "## Método de selección de características."
   ]
  },
  {
   "cell_type": "code",
   "execution_count": 28,
   "metadata": {
    "collapsed": false
   },
   "outputs": [
    {
     "name": "stdout",
     "output_type": "stream",
     "text": [
      "Number of features = 1\n",
      "Accuracy:  0.725242718446602\n",
      "Recall:  [0.54170042 0.57673734 0.95245631 0.82842557]\n",
      "Precision:  [0.55246008 0.59551659 0.89135221 0.83195127]\n"
     ]
    },
    {
     "name": "stdout",
     "output_type": "stream",
     "text": [
      "Number of features = 3\n",
      "Accuracy:  0.8510268857356236\n",
      "Recall:  [0.80392857 0.84672619 1.         0.7548003 ]\n",
      "Precision:  [0.79181735 0.81796296 0.97609428 0.82435695]\n"
     ]
    },
    {
     "name": "stdout",
     "output_type": "stream",
     "text": [
      "Number of features = 5\n",
      "Accuracy:  0.9051904406273339\n",
      "Recall:  [0.85966176 0.9069453  1.         0.84923191]\n",
      "Precision:  [0.8628602  0.90188083 0.99230769 0.86970116]\n"
     ]
    },
    {
     "name": "stdout",
     "output_type": "stream",
     "text": [
      "Number of features = 7\n",
      "Accuracy:  0.8994025392083644\n",
      "Recall:  [0.87291168 0.89377921 1.         0.82936508]\n",
      "Precision:  [0.85872359 0.88586243 0.99130435 0.86415261]\n"
     ]
    },
    {
     "name": "stdout",
     "output_type": "stream",
     "text": [
      "Number of features = 9\n",
      "Accuracy:  0.8974607916355488\n",
      "Recall:  [0.87061326 0.90107913 1.         0.82023974]\n",
      "Precision:  [0.85847223 0.88030719 0.99310345 0.86272202]\n"
     ]
    },
    {
     "name": "stdout",
     "output_type": "stream",
     "text": [
      "Number of features = 11\n",
      "Accuracy:  0.8801344286781181\n",
      "Recall:  [0.81595406 0.89395738 1.         0.80840404]\n",
      "Precision:  [0.84349784 0.89613984 0.98666667 0.79693748]\n"
     ]
    },
    {
     "name": "stdout",
     "output_type": "stream",
     "text": [
      "Number of features = 13\n",
      "Accuracy:  0.9031926811053026\n",
      "Recall:  [0.87871573 0.91603374 1.         0.82685402]\n",
      "Precision:  [0.84763638 0.86663216 0.99166667 0.90724638]\n"
     ]
    },
    {
     "name": "stdout",
     "output_type": "stream",
     "text": [
      "Number of features = 15\n",
      "Accuracy:  0.9109970126960419\n",
      "Recall:  [0.90688654 0.91238736 1.         0.82487645]\n",
      "Precision:  [0.85423614 0.88862625 1.         0.90402212]\n"
     ]
    },
    {
     "name": "stdout",
     "output_type": "stream",
     "text": [
      "Number of features = 17\n",
      "Accuracy:  0.9245332337565347\n",
      "Recall:  [0.94378265 0.94150926 1.         0.81129426]\n",
      "Precision:  [0.89399638 0.87217204 1.         0.94012253]\n"
     ]
    },
    {
     "name": "stdout",
     "output_type": "stream",
     "text": [
      "Number of features = 19\n",
      "Accuracy:  0.9246825989544437\n",
      "Recall:  [0.92322701 0.93745921 1.         0.83999512]\n",
      "Precision:  [0.87456321 0.90837733 1.         0.92215082]\n"
     ]
    },
    {
     "name": "stdout",
     "output_type": "stream",
     "text": [
      "Number of features = 21\n",
      "Accuracy:  0.9284540702016431\n",
      "Recall:  [0.9373545  0.94844114 1.         0.83023882]\n",
      "Precision:  [0.88444521 0.90556415 1.         0.9257563 ]\n"
     ]
    },
    {
     "name": "stdout",
     "output_type": "stream",
     "text": [
      "Number of features = 23\n",
      "Accuracy:  0.9033420463032114\n",
      "Recall:  [0.90334881 0.92203557 1.         0.7757842 ]\n",
      "Precision:  [0.84733649 0.87068793 0.99310345 0.90943057]\n"
     ]
    },
    {
     "name": "stdout",
     "output_type": "stream",
     "text": [
      "Number of features = 25\n",
      "Accuracy:  0.9246452576549664\n",
      "Recall:  [0.93265173 0.94597902 1.         0.82221973]\n",
      "Precision:  [0.88773307 0.89253037 0.99130435 0.9454416 ]\n"
     ]
    },
    {
     "name": "stdout",
     "output_type": "stream",
     "text": [
      "Number of features = 27\n",
      "Accuracy:  0.9149925317401045\n",
      "Recall:  [0.94473886 0.91650879 1.         0.79058467]\n",
      "Precision:  [0.85960798 0.88111423 1.         0.929     ]\n"
     ]
    },
    {
     "name": "stdout",
     "output_type": "stream",
     "text": [
      "Number of features = 29\n",
      "Accuracy:  0.8916915608663182\n",
      "Recall:  [0.93068979 0.87313697 1.         0.7543081 ]\n",
      "Precision:  [0.81764273 0.86879475 0.992      0.88665476]\n"
     ]
    }
   ],
   "source": [
    "ks = [1,3,5,7,9,11,13,15,17,19,21,23,25,27,29]\n",
    "accs = []\n",
    "clf = KNeighborsClassifier(n_neighbors=1,p=1)\n",
    "for k in ks:    \n",
    "    ffs = SequentialFeatureSelector(clf, n_features_to_select=k)\n",
    "    ffs.fit(X, y)\n",
    "    X_new = ffs.transform(X)\n",
    "    acc = 0\n",
    "    rec = np.zeros(4)\n",
    "    pre = np.zeros(4) \n",
    "    for train_index, test_index in kf.split(X_new):  \n",
    "        # Training phase\n",
    "        X_train = X_new[train_index, :]\n",
    "        y_train = y[train_index]\n",
    "        clf.fit(X_train, y_train)     \n",
    "        # Test phase\n",
    "        X_test = X_new[test_index, :]\n",
    "        y_test = y[test_index]\n",
    "        y_pred = clf.predict(X_test)\n",
    "\n",
    "        acc+=(accuracy_score(y_test, y_pred))\n",
    "        rec+=(recall_score(y_test, y_pred, average=None))\n",
    "        pre+=(precision_score(y_test, y_pred, average=None))\n",
    "\n",
    "    acc = acc/5\n",
    "    rec = rec/5\n",
    "    pre = pre/5\n",
    "\n",
    "    print(\"Number of features =\", k)\n",
    "    print(\"Accuracy: \",acc)\n",
    "    print(\"Recall: \",rec)\n",
    "    print(\"Precision: \",pre)    "
   ]
  },
  {
   "cell_type": "markdown",
   "metadata": {
    "collapsed": false
   },
   "source": [
    "Indique cuantas características son suficientes para obtener buenos resultados."
   ]
  },
  {
   "cell_type": "markdown",
   "metadata": {
    "collapsed": false
   },
   "source": [
    "El modelo obtuvo mejores resultado utilizando entre 17 y 21 características."
   ]
  }
 ],
 "metadata": {
  "kernelspec": {
   "display_name": "Python 3 (system-wide)",
   "language": "python",
   "metadata": {
    "cocalc": {
     "description": "Python 3 programming language",
     "priority": 100,
     "url": "https://www.python.org/"
    }
   },
   "name": "python3",
   "resource_dir": "/ext/jupyter/kernels/python3"
  },
  "language_info": {
   "codemirror_mode": {
    "name": "ipython",
    "version": 3
   },
   "file_extension": ".py",
   "mimetype": "text/x-python",
   "name": "python",
   "nbconvert_exporter": "python",
   "pygments_lexer": "ipython3",
   "version": "3.8.5"
  }
 },
 "nbformat": 4,
 "nbformat_minor": 4
}