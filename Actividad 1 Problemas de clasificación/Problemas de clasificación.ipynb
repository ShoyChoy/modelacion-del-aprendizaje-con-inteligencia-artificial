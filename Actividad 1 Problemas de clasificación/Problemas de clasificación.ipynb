{
 "cells": [
  {
   "cell_type": "markdown",
   "metadata": {
    "collapsed": false
   },
   "source": [
    "# Problemas de clasificación"
   ]
  },
  {
   "cell_type": "markdown",
   "metadata": {
    "collapsed": false
   },
   "source": [
    "Ernesto Ignacio Borbón Martínez\n",
    "\n",
    "José de Jesús Gutiérrez Aldrete\n",
    "\n",
    "Luis Felipe Villaseñor Navarrete"
   ]
  },
  {
   "cell_type": "code",
   "execution_count": 107,
   "metadata": {
    "collapsed": false
   },
   "outputs": [
   ],
   "source": [
    "import pandas as pd\n",
    "import numpy as np\n",
    "from sklearn.model_selection import KFold\n",
    "from sklearn import svm\n",
    "from sklearn.model_selection import StratifiedKFold\n",
    "from sklearn.metrics import confusion_matrix\n",
    "from sklearn.neighbors import KNeighborsClassifier\n",
    "import matplotlib.pyplot as plt\n",
    "from sklearn import datasets\n",
    "from sklearn.metrics import accuracy_score\n",
    "from sklearn.metrics import precision_score\n",
    "from sklearn.metrics import recall_score\n",
    "from sklearn.tree import DecisionTreeClassifier\n",
    "import statistics\n",
    "import xgboost as xgb\n",
    "import seaborn as sns\n",
    "from sklearn.model_selection import RepeatedKFold\n",
    "from sklearn.model_selection import train_test_split\n",
    "import imblearn"
   ]
  },
  {
   "cell_type": "markdown",
   "metadata": {
    "collapsed": false
   },
   "source": [
    "## Problema 1"
   ]
  },
  {
   "cell_type": "markdown",
   "metadata": {
    "collapsed": false
   },
   "source": [
    "### Validación cruzada con 5 pliegues"
   ]
  },
  {
   "cell_type": "code",
   "execution_count": 2,
   "metadata": {
    "collapsed": false
   },
   "outputs": [
   ],
   "source": [
    "iris = datasets.load_iris()"
   ]
  },
  {
   "cell_type": "code",
   "execution_count": 3,
   "metadata": {
    "collapsed": false,
    "scrolled": true
   },
   "outputs": [
   ],
   "source": [
    "xi = iris.data\n",
    "yi = iris.target\n",
    "\n",
    "clf = svm.SVC(kernel = 'rbf')\n",
    "\n",
    "\n",
    "kf = KFold(n_splits=5, shuffle = True)\n",
    "clf = svm.SVC(kernel = 'rbf')\n",
    "\n",
    "acc = 0\n",
    "rec = np.array([0., 0., 0.])\n",
    "pre = np.array([0., 0., 0.])\n",
    "\n",
    "for train_index, test_index in kf.split(xi):\n",
    "    \n",
    "    # Training phase\n",
    "    xi_train = xi[train_index, :]\n",
    "    yi_train = yi[train_index]\n",
    "    clf.fit(xi_train, yi_train)\n",
    "\n",
    "    # Test phase\n",
    "    xi_test = xi[test_index, :]\n",
    "    yi_test = yi[test_index]    \n",
    "    yi_pred = clf.predict(xi_test)\n",
    "    \n",
    "    acc+=(accuracy_score(yi_test, yi_pred))\n",
    "    rec+=(recall_score(yi_test, yi_pred, average=None))\n",
    "    pre+=(precision_score(yi_test, yi_pred, average=None))\n",
    "    \n",
    "acc = acc/5\n",
    "rec = rec/5\n",
    "pre = pre/5"
   ]
  },
  {
   "cell_type": "code",
   "execution_count": 4,
   "metadata": {
    "collapsed": false
   },
   "outputs": [
    {
     "name": "stdout",
     "output_type": "stream",
     "text": [
      "Accuracy:  0.9533333333333335\n",
      "Recall:  [1.         0.92467532 0.92181818]\n",
      "Precision:  [1.         0.92       0.93681818]\n"
     ]
    }
   ],
   "source": [
    "print(\"Accuracy: \",acc)\n",
    "print(\"Recall: \",rec)\n",
    "print(\"Precision: \",pre)"
   ]
  },
  {
   "cell_type": "markdown",
   "metadata": {
    "collapsed": false
   },
   "source": [
    "### LOOCV"
   ]
  },
  {
   "cell_type": "code",
   "execution_count": 5,
   "metadata": {
    "collapsed": false
   },
   "outputs": [
   ],
   "source": [
    "clf = svm.SVC(kernel = 'rbf')\n",
    "from sklearn.model_selection import LeaveOneOut\n",
    "loo = LeaveOneOut()\n",
    "acc = 0\n",
    "i=0\n",
    "tp0 = 0\n",
    "tp1 = 0\n",
    "tp2 = 0\n",
    "fp0 = 0\n",
    "fp1 = 0\n",
    "fp2 = 0\n",
    "fn0 = 0\n",
    "fn1 = 0\n",
    "fn2 = 0\n",
    "rec = np.array([0., 0., 0.])\n",
    "pre = np.array([0., 0., 0.])\n",
    "for train_index, test_index in loo.split(xi):\n",
    "    # Training phase\n",
    "    xi_train = xi[train_index, :]\n",
    "    yi_train = yi[train_index]\n",
    "    clf.fit(xi_train, yi_train)\n",
    "\n",
    "    # Test phase\n",
    "    xi_test = xi[test_index, :]\n",
    "    yi_test = yi[test_index]    \n",
    "    yi_pred = clf.predict(xi_test)\n",
    "    acc+=(accuracy_score(yi_test, yi_pred))\n",
    "    if yi_test == yi_pred:\n",
    "        if yi_test[0] == 0:\n",
    "            tp0 += 1\n",
    "        if yi_test[0] == 1:\n",
    "            tp1 += 1\n",
    "        if yi_test[0] == 2:\n",
    "            tp2 += 1\n",
    "    else:\n",
    "        if yi_pred[0] == 0:\n",
    "            fp0 += 1\n",
    "        if yi_pred[0] == 1:\n",
    "            fp1 += 1\n",
    "        if yi_pred[0] == 2:\n",
    "            fp2 += 1\n",
    "        if yi_test[0] == 0:\n",
    "            fn0 += 1\n",
    "        if yi_test[0] == 1:\n",
    "            fn1 += 1\n",
    "        if yi_test[0] == 2:\n",
    "            fn2 += 1\n",
    "acc = acc/150\n",
    "rec0 = tp0/(tp0+fn0)\n",
    "rec1 = tp1/(tp1+fn1)\n",
    "rec2 = tp2/(tp2+fn2)\n",
    "rec = [rec0, rec1, rec2]\n",
    "pre0 = tp0/(tp0+fp0)\n",
    "pre1 = tp1/(tp1+fp1)\n",
    "pre2 = tp2/(tp2+fp2)\n",
    "pre = [pre0, pre1, pre2]"
   ]
  },
  {
   "cell_type": "code",
   "execution_count": 6,
   "metadata": {
    "collapsed": false
   },
   "outputs": [
    {
     "name": "stdout",
     "output_type": "stream",
     "text": [
      "Accuracy:  0.9666666666666667\n",
      "Recall:  [1.0, 0.96, 0.94]\n",
      "Precision:  [1.0, 0.9411764705882353, 0.9591836734693877]\n"
     ]
    }
   ],
   "source": [
    "print(\"Accuracy: \",acc)\n",
    "print(\"Recall: \",rec)\n",
    "print(\"Precision: \",pre)"
   ]
  },
  {
   "cell_type": "markdown",
   "metadata": {
    "collapsed": false
   },
   "source": [
    "### Repeated k-fold"
   ]
  },
  {
   "cell_type": "code",
   "execution_count": 7,
   "metadata": {
    "collapsed": false,
    "scrolled": true
   },
   "outputs": [
   ],
   "source": [
    "rkf = RepeatedKFold(n_splits=5, n_repeats=100, random_state=2652124)\n",
    "for train_index, test_index in rkf.split(xi):\n",
    "    xi_train, xi_test = xi[train_index], xi[test_index]\n",
    "    yi_train, yi_test = yi[train_index], yi[test_index]"
   ]
  },
  {
   "cell_type": "code",
   "execution_count": 8,
   "metadata": {
    "collapsed": false,
    "scrolled": true
   },
   "outputs": [
   ],
   "source": [
    "xi = iris.data\n",
    "yi = iris.target\n",
    "mean_accs = []\n",
    "count = 0\n",
    "acc = []\n",
    "rkf = RepeatedKFold(n_splits=5, n_repeats=100, random_state=42)\n",
    "for train_index, test_index in rkf.split(xi):\n",
    "    xi_train, xi_test, yi_train, yi_test = xi[train_index,:], xi[test_index,:], yi[train_index], yi[test_index]\n",
    "    clf.fit(xi_train, yi_train)\n",
    "    yi_pred = clf.predict(xi_test)\n",
    "    acc.append(accuracy_score(yi_test, yi_pred))\n",
    "    count += 1\n",
    "    if count == 5:     \n",
    "        mean_accs.append(statistics.mean(acc))\n",
    "        acc.clear()\n",
    "        count = 0\n"
   ]
  },
  {
   "cell_type": "markdown",
   "metadata": {
    "collapsed": false
   },
   "source": [
    "## Problema 2"
   ]
  },
  {
   "cell_type": "code",
   "execution_count": 9,
   "metadata": {
    "collapsed": false
   },
   "outputs": [
   ],
   "source": [
    "wine = datasets.load_wine(as_frame = True)"
   ]
  },
  {
   "cell_type": "markdown",
   "metadata": {
    "collapsed": false
   },
   "source": [
    "### ¿Cuántas variables y observaciones por clase hay en este conjunto de datos?"
   ]
  },
  {
   "cell_type": "code",
   "execution_count": 10,
   "metadata": {
    "collapsed": false
   },
   "outputs": [
    {
     "data": {
      "text/plain": [
       "13"
      ]
     },
     "execution_count": 10,
     "metadata": {
     },
     "output_type": "execute_result"
    }
   ],
   "source": [
    "features = wine.feature_names\n",
    "len(features)"
   ]
  },
  {
   "cell_type": "code",
   "execution_count": 11,
   "metadata": {
    "collapsed": false
   },
   "outputs": [
    {
     "data": {
      "text/plain": [
       "1    71\n",
       "0    59\n",
       "2    48\n",
       "Name: target, dtype: int64"
      ]
     },
     "execution_count": 11,
     "metadata": {
     },
     "output_type": "execute_result"
    }
   ],
   "source": [
    "X_2 = wine.data\n",
    "y_2 = wine.target\n",
    "#plt.hist(y_2, bins = 3)\n",
    "pd.DataFrame(y_2)['target'].value_counts()"
   ]
  },
  {
   "cell_type": "markdown",
   "metadata": {
    "collapsed": false
   },
   "source": [
    "Hay 13 variables, 59 observaciones de la clase 0, 71 observaciones de la clase 1 y 48 observaciones de la clase 2. "
   ]
  },
  {
   "cell_type": "markdown",
   "metadata": {
    "collapsed": false
   },
   "source": [
    "### ¿Qué representan los predictores?"
   ]
  },
  {
   "cell_type": "code",
   "execution_count": 12,
   "metadata": {
    "collapsed": false
   },
   "outputs": [
    {
     "data": {
      "text/plain": [
       "['alcohol',\n",
       " 'malic_acid',\n",
       " 'ash',\n",
       " 'alcalinity_of_ash',\n",
       " 'magnesium',\n",
       " 'total_phenols',\n",
       " 'flavanoids',\n",
       " 'nonflavanoid_phenols',\n",
       " 'proanthocyanins',\n",
       " 'color_intensity',\n",
       " 'hue',\n",
       " 'od280/od315_of_diluted_wines',\n",
       " 'proline']"
      ]
     },
     "execution_count": 12,
     "metadata": {
     },
     "output_type": "execute_result"
    }
   ],
   "source": [
    "features"
   ]
  },
  {
   "cell_type": "markdown",
   "metadata": {
    "collapsed": false
   },
   "source": [
    "Alcohol: porcentaje de alcohol.\n",
    "\n",
    "Malic acid: ácido málico.\n",
    "\n",
    "Ash: Ceniza.\n",
    "\n",
    "Alcalinity of ash: alcalinidad de ceniza.\n",
    "\n",
    "Magnesium: magnesio.\n",
    "\n",
    "Total phenols: fenoles totales.\n",
    "\n",
    "Flavanoids: flavanoides.\n",
    "\n",
    "Nonflavanoid phenols: fenoles no flavanoides.\n",
    "\n",
    "Proanthocyanins: Proantocianinos.\n",
    "\n",
    "Color intensity: intensidad del color.\n",
    "\n",
    "Hue: tono del color.\n",
    "\n",
    "OD280/OD315 of diluted wines: OD280 / OD315 en vinos diluidos.\n",
    "\n",
    "Proline: prolino."
   ]
  },
  {
   "cell_type": "markdown",
   "metadata": {
    "collapsed": false
   },
   "source": [
    "### Calculen la exactitud de los siguientes modelos de clasificación con k-fold cross validation (k = 5) para la base de datos Wine :"
   ]
  },
  {
   "cell_type": "code",
   "execution_count": 13,
   "metadata": {
    "collapsed": false
   },
   "outputs": [
   ],
   "source": [
    "kf_2 = KFold(n_splits=5, shuffle = True, random_state = 42)"
   ]
  },
  {
   "cell_type": "code",
   "execution_count": 14,
   "metadata": {
    "collapsed": false
   },
   "outputs": [
    {
     "data": {
      "text/plain": [
       "<generator object _BaseKFold.split at 0x7fcf25517a50>"
      ]
     },
     "execution_count": 14,
     "metadata": {
     },
     "output_type": "execute_result"
    }
   ],
   "source": [
    "kf_2.split(X_2)"
   ]
  },
  {
   "cell_type": "code",
   "execution_count": 15,
   "metadata": {
    "collapsed": false
   },
   "outputs": [
   ],
   "source": [
    "accuracies2 = []\n",
    "clf1 = svm.SVC(kernel = 'linear')\n",
    "clf2 = svm.SVC()\n",
    "clf3 = KNeighborsClassifier(n_neighbors = 3)\n",
    "clf4 = DecisionTreeClassifier()\n",
    "clf5 = xgb.XGBClassifier()"
   ]
  },
  {
   "cell_type": "code",
   "execution_count": 16,
   "metadata": {
    "collapsed": false
   },
   "outputs": [
   ],
   "source": [
    "classifiers = [clf1,clf2,clf3,clf4,clf5]"
   ]
  },
  {
   "cell_type": "code",
   "execution_count": 17,
   "metadata": {
    "collapsed": false
   },
   "outputs": [
    {
     "name": "stdout",
     "output_type": "stream",
     "text": [
      "accuracy of SVC(kernel='linear') : 0.9495238095238095\n",
      "accuracy of SVC() : 0.9719047619047619\n",
      "accuracy of KNeighborsClassifier(n_neighbors=3) : 0.9793650793650793\n",
      "accuracy of DecisionTreeClassifier() : 0.9830952380952381\n"
     ]
    },
    {
     "name": "stdout",
     "output_type": "stream",
     "text": [
      "accuracy of XGBClassifier(base_score=0.5, booster='gbtree', colsample_bylevel=1,\n",
      "              colsample_bynode=1, colsample_bytree=1, gamma=0, gpu_id=-1,\n",
      "              importance_type='gain', interaction_constraints='',\n",
      "              learning_rate=0.300000012, max_delta_step=0, max_depth=6,\n",
      "              min_child_weight=1, missing=nan, monotone_constraints='()',\n",
      "              n_estimators=100, n_jobs=0, num_parallel_tree=1,\n",
      "              objective='multi:softprob', random_state=0, reg_alpha=0,\n",
      "              reg_lambda=1, scale_pos_weight=None, subsample=1,\n",
      "              tree_method='exact', validate_parameters=1, verbosity=None) : 0.9853333333333333\n"
     ]
    }
   ],
   "source": [
    "for clf in classifiers:\n",
    "    for train_index, test_index in kf_2.split(X_2):\n",
    "        X_train, X_test = X_2.iloc[train_index,:], X_2.iloc[test_index,:]\n",
    "        y_train = y_2[train_index] \n",
    "        y_test = y_2[test_index]\n",
    "        clf.fit(X_train, y_train)\n",
    "        y_pred = clf1.predict(X_test)\n",
    "        accuracy = accuracies2.append(accuracy_score(y_test, y_pred))\n",
    "    mean_accuracy = statistics.mean(accuracies2)\n",
    "    print(\"accuracy of\",clf,\":\",mean_accuracy)"
   ]
  },
  {
   "cell_type": "markdown",
   "metadata": {
    "collapsed": false
   },
   "source": [
    "El clasificador más exacto fue el clasificador de XGBoost. "
   ]
  },
  {
   "cell_type": "markdown",
   "metadata": {
    "collapsed": false
   },
   "source": [
    "## Problema 3"
   ]
  },
  {
   "cell_type": "markdown",
   "metadata": {
    "collapsed": false
   },
   "source": [
    "### Carguen la base de datos misteriosa 1  descargar, y calculen la exactitud de un clasificador SVM lineal con k-fold cross validation (k = 5).  "
   ]
  },
  {
   "cell_type": "code",
   "execution_count": 18,
   "metadata": {
    "collapsed": false
   },
   "outputs": [
   ],
   "source": [
    "dfm1 = pd.read_csv('misterious_data_1.txt', header = None, delimiter = \"\\t\")"
   ]
  },
  {
   "cell_type": "code",
   "execution_count": 19,
   "metadata": {
    "collapsed": false,
    "scrolled": true
   },
   "outputs": [
    {
     "data": {
      "text/html": [
       "<div>\n",
       "<style scoped>\n",
       "    .dataframe tbody tr th:only-of-type {\n",
       "        vertical-align: middle;\n",
       "    }\n",
       "\n",
       "    .dataframe tbody tr th {\n",
       "        vertical-align: top;\n",
       "    }\n",
       "\n",
       "    .dataframe thead th {\n",
       "        text-align: right;\n",
       "    }\n",
       "</style>\n",
       "<table border=\"1\" class=\"dataframe\">\n",
       "  <thead>\n",
       "    <tr style=\"text-align: right;\">\n",
       "      <th></th>\n",
       "      <th>0</th>\n",
       "      <th>1</th>\n",
       "      <th>2</th>\n",
       "      <th>3</th>\n",
       "      <th>4</th>\n",
       "      <th>5</th>\n",
       "      <th>6</th>\n",
       "      <th>7</th>\n",
       "      <th>8</th>\n",
       "      <th>9</th>\n",
       "      <th>...</th>\n",
       "      <th>144</th>\n",
       "      <th>145</th>\n",
       "      <th>146</th>\n",
       "      <th>147</th>\n",
       "      <th>148</th>\n",
       "      <th>149</th>\n",
       "      <th>150</th>\n",
       "      <th>151</th>\n",
       "      <th>152</th>\n",
       "      <th>153</th>\n",
       "    </tr>\n",
       "  </thead>\n",
       "  <tbody>\n",
       "    <tr>\n",
       "      <th>0</th>\n",
       "      <td>1</td>\n",
       "      <td>0.469168</td>\n",
       "      <td>0.178952</td>\n",
       "      <td>0.255712</td>\n",
       "      <td>0.744816</td>\n",
       "      <td>1.246886</td>\n",
       "      <td>1.254866</td>\n",
       "      <td>0.804426</td>\n",
       "      <td>0.412733</td>\n",
       "      <td>0.258974</td>\n",
       "      <td>...</td>\n",
       "      <td>0.993407</td>\n",
       "      <td>-0.592111</td>\n",
       "      <td>-1.301687</td>\n",
       "      <td>-1.066966</td>\n",
       "      <td>-0.722061</td>\n",
       "      <td>-0.622120</td>\n",
       "      <td>-0.396476</td>\n",
       "      <td>0.133550</td>\n",
       "      <td>0.594973</td>\n",
       "      <td>0.691093</td>\n",
       "    </tr>\n",
       "    <tr>\n",
       "      <th>1</th>\n",
       "      <td>1</td>\n",
       "      <td>0.184388</td>\n",
       "      <td>0.194901</td>\n",
       "      <td>0.386090</td>\n",
       "      <td>0.796802</td>\n",
       "      <td>1.066347</td>\n",
       "      <td>0.799498</td>\n",
       "      <td>0.074394</td>\n",
       "      <td>-0.544738</td>\n",
       "      <td>-0.580456</td>\n",
       "      <td>...</td>\n",
       "      <td>-0.003908</td>\n",
       "      <td>-0.167604</td>\n",
       "      <td>-0.428945</td>\n",
       "      <td>-0.725686</td>\n",
       "      <td>-1.053406</td>\n",
       "      <td>-1.276862</td>\n",
       "      <td>-1.183251</td>\n",
       "      <td>-0.693138</td>\n",
       "      <td>0.016754</td>\n",
       "      <td>0.573650</td>\n",
       "    </tr>\n",
       "    <tr>\n",
       "      <th>2</th>\n",
       "      <td>1</td>\n",
       "      <td>-0.173341</td>\n",
       "      <td>0.145202</td>\n",
       "      <td>-0.304082</td>\n",
       "      <td>-1.414886</td>\n",
       "      <td>-2.213521</td>\n",
       "      <td>-1.913048</td>\n",
       "      <td>-0.831063</td>\n",
       "      <td>-0.007732</td>\n",
       "      <td>0.002380</td>\n",
       "      <td>...</td>\n",
       "      <td>1.902134</td>\n",
       "      <td>3.393694</td>\n",
       "      <td>3.131702</td>\n",
       "      <td>1.403325</td>\n",
       "      <td>-0.030289</td>\n",
       "      <td>-0.271096</td>\n",
       "      <td>-0.198293</td>\n",
       "      <td>-0.751224</td>\n",
       "      <td>-1.350148</td>\n",
       "      <td>-0.882644</td>\n",
       "    </tr>\n",
       "    <tr>\n",
       "      <th>3</th>\n",
       "      <td>1</td>\n",
       "      <td>-0.268590</td>\n",
       "      <td>0.599522</td>\n",
       "      <td>1.307578</td>\n",
       "      <td>1.167486</td>\n",
       "      <td>0.251935</td>\n",
       "      <td>-0.585627</td>\n",
       "      <td>-0.553452</td>\n",
       "      <td>0.185590</td>\n",
       "      <td>0.613321</td>\n",
       "      <td>...</td>\n",
       "      <td>-1.296833</td>\n",
       "      <td>-0.876860</td>\n",
       "      <td>-1.043880</td>\n",
       "      <td>-1.516590</td>\n",
       "      <td>-1.531095</td>\n",
       "      <td>-1.016308</td>\n",
       "      <td>-0.483549</td>\n",
       "      <td>-0.267818</td>\n",
       "      <td>-0.367672</td>\n",
       "      <td>-0.666145</td>\n",
       "    </tr>\n",
       "    <tr>\n",
       "      <th>4</th>\n",
       "      <td>1</td>\n",
       "      <td>2.525379</td>\n",
       "      <td>2.852672</td>\n",
       "      <td>2.172197</td>\n",
       "      <td>0.637552</td>\n",
       "      <td>-0.600348</td>\n",
       "      <td>-0.702175</td>\n",
       "      <td>-0.074887</td>\n",
       "      <td>0.279032</td>\n",
       "      <td>-0.025487</td>\n",
       "      <td>...</td>\n",
       "      <td>-0.890283</td>\n",
       "      <td>-0.624969</td>\n",
       "      <td>-0.753863</td>\n",
       "      <td>-0.854603</td>\n",
       "      <td>-0.736751</td>\n",
       "      <td>-0.614611</td>\n",
       "      <td>-0.587151</td>\n",
       "      <td>-0.409589</td>\n",
       "      <td>0.087732</td>\n",
       "      <td>0.646462</td>\n",
       "    </tr>\n",
       "  </tbody>\n",
       "</table>\n",
       "<p>5 rows × 154 columns</p>\n",
       "</div>"
      ],
      "text/plain": [
       "   0         1         2         3         4         5         6         7    \\\n",
       "0    1  0.469168  0.178952  0.255712  0.744816  1.246886  1.254866  0.804426   \n",
       "1    1  0.184388  0.194901  0.386090  0.796802  1.066347  0.799498  0.074394   \n",
       "2    1 -0.173341  0.145202 -0.304082 -1.414886 -2.213521 -1.913048 -0.831063   \n",
       "3    1 -0.268590  0.599522  1.307578  1.167486  0.251935 -0.585627 -0.553452   \n",
       "4    1  2.525379  2.852672  2.172197  0.637552 -0.600348 -0.702175 -0.074887   \n",
       "\n",
       "        8         9    ...       144       145       146       147       148  \\\n",
       "0  0.412733  0.258974  ...  0.993407 -0.592111 -1.301687 -1.066966 -0.722061   \n",
       "1 -0.544738 -0.580456  ... -0.003908 -0.167604 -0.428945 -0.725686 -1.053406   \n",
       "2 -0.007732  0.002380  ...  1.902134  3.393694  3.131702  1.403325 -0.030289   \n",
       "3  0.185590  0.613321  ... -1.296833 -0.876860 -1.043880 -1.516590 -1.531095   \n",
       "4  0.279032 -0.025487  ... -0.890283 -0.624969 -0.753863 -0.854603 -0.736751   \n",
       "\n",
       "        149       150       151       152       153  \n",
       "0 -0.622120 -0.396476  0.133550  0.594973  0.691093  \n",
       "1 -1.276862 -1.183251 -0.693138  0.016754  0.573650  \n",
       "2 -0.271096 -0.198293 -0.751224 -1.350148 -0.882644  \n",
       "3 -1.016308 -0.483549 -0.267818 -0.367672 -0.666145  \n",
       "4 -0.614611 -0.587151 -0.409589  0.087732  0.646462  \n",
       "\n",
       "[5 rows x 154 columns]"
      ]
     },
     "execution_count": 19,
     "metadata": {
     },
     "output_type": "execute_result"
    }
   ],
   "source": [
    "dfm1.head()"
   ]
  },
  {
   "cell_type": "code",
   "execution_count": 20,
   "metadata": {
    "collapsed": false
   },
   "outputs": [
    {
     "data": {
      "text/plain": [
       "array([1, 2])"
      ]
     },
     "execution_count": 20,
     "metadata": {
     },
     "output_type": "execute_result"
    }
   ],
   "source": [
    "dfm1.iloc[:,0].unique()"
   ]
  },
  {
   "cell_type": "code",
   "execution_count": 21,
   "metadata": {
    "collapsed": false
   },
   "outputs": [
    {
     "data": {
      "text/plain": [
       "1    264\n",
       "2    264\n",
       "Name: 0, dtype: int64"
      ]
     },
     "execution_count": 21,
     "metadata": {
     },
     "output_type": "execute_result"
    }
   ],
   "source": [
    "dfm1.iloc[:,0].value_counts()"
   ]
  },
  {
   "cell_type": "code",
   "execution_count": 22,
   "metadata": {
    "collapsed": false
   },
   "outputs": [
   ],
   "source": [
    "y = dfm1.iloc[:,0]\n",
    "X = dfm1.iloc[:,1:]"
   ]
  },
  {
   "cell_type": "code",
   "execution_count": 23,
   "metadata": {
    "collapsed": false
   },
   "outputs": [
    {
     "data": {
      "text/plain": [
       "[<matplotlib.lines.Line2D at 0x7fcf23bde9d0>]"
      ]
     },
     "execution_count": 23,
     "metadata": {
     },
     "output_type": "execute_result"
    },
    {
     "data": {
      "image/png": "[encoded data removed]",
      "text/plain": [
       "<Figure size 864x504 with 1 Axes>"
      ]
     },
     "execution_count": 23,
     "metadata": {
      "image/png": {
       "height": 411,
       "width": 706
      },
      "needs_background": "light"
     },
     "output_type": "execute_result"
    }
   ],
   "source": [
    "plt.plot(y)"
   ]
  },
  {
   "cell_type": "markdown",
   "metadata": {
    "collapsed": false
   },
   "source": [
    "Como podemos observar, el dataframe viene ordenado según la clase que intentamos predecir, por lo tanto usaremos un K-Fold con shuffle"
   ]
  },
  {
   "cell_type": "code",
   "execution_count": 24,
   "metadata": {
    "collapsed": false
   },
   "outputs": [
   ],
   "source": [
    "kf = KFold(n_splits=5, shuffle = True, random_state = 42)"
   ]
  },
  {
   "cell_type": "code",
   "execution_count": 25,
   "metadata": {
    "collapsed": false
   },
   "outputs": [
   ],
   "source": [
    "scores = []\n",
    "clf = svm.SVC(kernel = 'linear')\n",
    "for train_index, test_index in kf.split(X):\n",
    "    X_train, X_test, y_train, y_test = X.iloc[train_index,:], X.iloc[test_index,:], y.iloc[train_index], y.iloc[test_index]\n",
    "    clf.fit(X_train, y_train)\n",
    "    y_pred = clf.predict(X_test)\n",
    "    scores.append(accuracy_score(y_test, y_pred))"
   ]
  },
  {
   "cell_type": "code",
   "execution_count": 26,
   "metadata": {
    "collapsed": false
   },
   "outputs": [
    {
     "name": "stdout",
     "output_type": "stream",
     "text": [
      "[0.7830188679245284, 0.7924528301886793, 0.8113207547169812, 0.7047619047619048, 0.7523809523809524]\n"
     ]
    }
   ],
   "source": [
    "print(scores)"
   ]
  },
  {
   "cell_type": "code",
   "execution_count": 27,
   "metadata": {
    "collapsed": false
   },
   "outputs": [
    {
     "data": {
      "text/plain": [
       "0.7687870619946092"
      ]
     },
     "execution_count": 27,
     "metadata": {
     },
     "output_type": "execute_result"
    }
   ],
   "source": [
    "statistics.mean(scores)"
   ]
  },
  {
   "cell_type": "markdown",
   "metadata": {
    "collapsed": false
   },
   "source": [
    "### Seleccionen aleatoriamente el 10% de todas las observaciones de la base de datos misteriosa, y repitan la evaluación del clasificador con k-fold cross validation pero con los datos seleccionados. Repitan el paso anterior, pero con 15%, 20%, 25%, 30%, 35%, 40%, ..., 95% de los datos."
   ]
  },
  {
   "cell_type": "code",
   "execution_count": 28,
   "metadata": {
    "collapsed": false
   },
   "outputs": [
   ],
   "source": [
    "acc_per_perc = []\n",
    "porcentajes = []\n",
    "porcentaje = 0.10\n",
    "while porcentaje <= 0.95:\n",
    "    dfms = dfm1.sample(frac = porcentaje, random_state = 42)\n",
    "    y = dfms.iloc[:,0]\n",
    "    X = dfms.iloc[:,1:]\n",
    "    scores = []\n",
    "    kf = KFold(n_splits = 5, shuffle = True, random_state = 42)\n",
    "    clf = svm.SVC(kernel = 'linear')\n",
    "    for train_index, test_index in kf.split(X):\n",
    "        X_train, X_test, y_train, y_test = X.iloc[train_index,:], X.iloc[test_index,:], y.iloc[train_index], y.iloc[test_index]\n",
    "        clf.fit(X_train, y_train)\n",
    "        y_pred = clf.predict(X_test)\n",
    "        scores.append(accuracy_score(y_test, y_pred))\n",
    "    acc_per_perc.append(statistics.mean(scores))\n",
    "    #print(acc_per_perc)\n",
    "    scores = []\n",
    "    porcentajes.append(porcentaje)\n",
    "    porcentaje += 0.05"
   ]
  },
  {
   "cell_type": "markdown",
   "metadata": {
    "collapsed": false
   },
   "source": [
    "### De acuerdo a los resultados del apartado anterior,  ¿cuántas observaciones creen que son necesarias para entrenar el modelo para el tipo de datos probados?"
   ]
  },
  {
   "cell_type": "code",
   "execution_count": 29,
   "metadata": {
    "collapsed": false
   },
   "outputs": [
    {
     "data": {
      "text/plain": [
       "[<matplotlib.lines.Line2D at 0x7fcf23b96b50>]"
      ]
     },
     "execution_count": 29,
     "metadata": {
     },
     "output_type": "execute_result"
    },
    {
     "data": {
      "image/png": "[encoded data removed]",
      "text/plain": [
       "<Figure size 864x504 with 1 Axes>"
      ]
     },
     "execution_count": 29,
     "metadata": {
      "image/png": {
       "height": 411,
       "width": 713
      },
      "needs_background": "light"
     },
     "output_type": "execute_result"
    }
   ],
   "source": [
    "plt.plot(porcentajes,acc_per_perc)"
   ]
  },
  {
   "cell_type": "code",
   "execution_count": 30,
   "metadata": {
    "collapsed": false
   },
   "outputs": [
    {
     "name": "stdout",
     "output_type": "stream",
     "text": [
      "0.25\n",
      "0.7874643874643874\n"
     ]
    }
   ],
   "source": [
    "pop = porcentajes[acc_per_perc.index(max(acc_per_perc))]\n",
    "print(pop)\n",
    "print(acc_per_perc[porcentajes.index(pop)])"
   ]
  },
  {
   "cell_type": "markdown",
   "metadata": {
    "collapsed": false
   },
   "source": [
    "El porcentaje de datos seleccionados aleatoriamente con el random state 42 que maximizó la precisión del modelo fue de 25%, es decir 132 observaciones, de los cuales 4/5 fueron utilizados para entrenar el modelo, es decir 106 observaciones.\n",
    "Consideramos que la precisión del modelo aumentó significativamente al usar 106 observaciones y pueden ser suficientes alrededor de 100 para entrenar el modelo. Cabe mencionar que 106 podría no ser el tamaño óptimo del dataset de entrenamiento ya que también se reduce el tamaño del set de prueba y también depende del random seed utilizado."
   ]
  },
  {
   "cell_type": "markdown",
   "metadata": {
    "collapsed": false
   },
   "source": [
    "## Problema 4"
   ]
  },
  {
   "cell_type": "markdown",
   "metadata": {
    "collapsed": false
   },
   "source": [
    "### Carguen la base de datos misteriosa 2  descargar, y calculen la exactitud de un clasificador k-NN con k-fold cross validation (5 pliegues), para k = 1, 2, 3, 4, ..., 40 del clasificador. De acuerdo a los resultados del apartado anterior, ¿qué valor de k es el óptimo para los datos probados"
   ]
  },
  {
   "cell_type": "code",
   "execution_count": 31,
   "metadata": {
    "collapsed": false,
    "scrolled": true
   },
   "outputs": [
    {
     "data": {
      "text/html": [
       "<div>\n",
       "<style scoped>\n",
       "    .dataframe tbody tr th:only-of-type {\n",
       "        vertical-align: middle;\n",
       "    }\n",
       "\n",
       "    .dataframe tbody tr th {\n",
       "        vertical-align: top;\n",
       "    }\n",
       "\n",
       "    .dataframe thead th {\n",
       "        text-align: right;\n",
       "    }\n",
       "</style>\n",
       "<table border=\"1\" class=\"dataframe\">\n",
       "  <thead>\n",
       "    <tr style=\"text-align: right;\">\n",
       "      <th></th>\n",
       "      <th>0</th>\n",
       "      <th>1</th>\n",
       "      <th>2</th>\n",
       "      <th>3</th>\n",
       "      <th>4</th>\n",
       "      <th>5</th>\n",
       "      <th>6</th>\n",
       "      <th>7</th>\n",
       "      <th>8</th>\n",
       "      <th>9</th>\n",
       "      <th>...</th>\n",
       "      <th>315</th>\n",
       "      <th>316</th>\n",
       "      <th>317</th>\n",
       "      <th>318</th>\n",
       "      <th>319</th>\n",
       "      <th>320</th>\n",
       "      <th>321</th>\n",
       "      <th>322</th>\n",
       "      <th>323</th>\n",
       "      <th>324</th>\n",
       "    </tr>\n",
       "  </thead>\n",
       "  <tbody>\n",
       "    <tr>\n",
       "      <th>0</th>\n",
       "      <td>1</td>\n",
       "      <td>-0.405533</td>\n",
       "      <td>2.242719</td>\n",
       "      <td>2.242719</td>\n",
       "      <td>-0.405533</td>\n",
       "      <td>0.095136</td>\n",
       "      <td>2.367101</td>\n",
       "      <td>2.367101</td>\n",
       "      <td>0.095136</td>\n",
       "      <td>2.161999</td>\n",
       "      <td>...</td>\n",
       "      <td>-0.389916</td>\n",
       "      <td>-1.546940</td>\n",
       "      <td>-0.274864</td>\n",
       "      <td>-3.930365</td>\n",
       "      <td>-3.930365</td>\n",
       "      <td>-0.274864</td>\n",
       "      <td>-0.424959</td>\n",
       "      <td>-3.588486</td>\n",
       "      <td>-3.588486</td>\n",
       "      <td>-0.424959</td>\n",
       "    </tr>\n",
       "    <tr>\n",
       "      <th>1</th>\n",
       "      <td>1</td>\n",
       "      <td>-1.238295</td>\n",
       "      <td>-1.011814</td>\n",
       "      <td>-1.011814</td>\n",
       "      <td>-1.238295</td>\n",
       "      <td>-1.154385</td>\n",
       "      <td>-0.921107</td>\n",
       "      <td>-0.921107</td>\n",
       "      <td>-1.154385</td>\n",
       "      <td>-1.051711</td>\n",
       "      <td>...</td>\n",
       "      <td>-1.623023</td>\n",
       "      <td>-2.470321</td>\n",
       "      <td>-1.540529</td>\n",
       "      <td>-4.600303</td>\n",
       "      <td>-4.600303</td>\n",
       "      <td>-1.540529</td>\n",
       "      <td>-1.686461</td>\n",
       "      <td>-4.496301</td>\n",
       "      <td>-4.496301</td>\n",
       "      <td>-1.686461</td>\n",
       "    </tr>\n",
       "    <tr>\n",
       "      <th>2</th>\n",
       "      <td>1</td>\n",
       "      <td>-0.702202</td>\n",
       "      <td>-2.371735</td>\n",
       "      <td>-2.371735</td>\n",
       "      <td>-0.702202</td>\n",
       "      <td>-0.876015</td>\n",
       "      <td>-1.759448</td>\n",
       "      <td>-1.759448</td>\n",
       "      <td>-0.876015</td>\n",
       "      <td>-2.637602</td>\n",
       "      <td>...</td>\n",
       "      <td>-1.796012</td>\n",
       "      <td>-3.779401</td>\n",
       "      <td>-1.719287</td>\n",
       "      <td>-5.825470</td>\n",
       "      <td>-5.825470</td>\n",
       "      <td>-1.719287</td>\n",
       "      <td>-1.864409</td>\n",
       "      <td>-5.801907</td>\n",
       "      <td>-5.801907</td>\n",
       "      <td>-1.864409</td>\n",
       "    </tr>\n",
       "    <tr>\n",
       "      <th>3</th>\n",
       "      <td>1</td>\n",
       "      <td>-0.909662</td>\n",
       "      <td>-1.737973</td>\n",
       "      <td>-1.737973</td>\n",
       "      <td>-0.909662</td>\n",
       "      <td>-0.800335</td>\n",
       "      <td>-1.861995</td>\n",
       "      <td>-1.861995</td>\n",
       "      <td>-0.800335</td>\n",
       "      <td>-1.643449</td>\n",
       "      <td>...</td>\n",
       "      <td>-1.929824</td>\n",
       "      <td>-3.075712</td>\n",
       "      <td>-1.837234</td>\n",
       "      <td>-5.276139</td>\n",
       "      <td>-5.276139</td>\n",
       "      <td>-1.837234</td>\n",
       "      <td>-1.984456</td>\n",
       "      <td>-5.106666</td>\n",
       "      <td>-5.106666</td>\n",
       "      <td>-1.984456</td>\n",
       "    </tr>\n",
       "    <tr>\n",
       "      <th>4</th>\n",
       "      <td>1</td>\n",
       "      <td>-0.547449</td>\n",
       "      <td>-2.673609</td>\n",
       "      <td>-2.673609</td>\n",
       "      <td>-0.547449</td>\n",
       "      <td>-0.582630</td>\n",
       "      <td>-2.438873</td>\n",
       "      <td>-2.438873</td>\n",
       "      <td>-0.582630</td>\n",
       "      <td>-2.564881</td>\n",
       "      <td>...</td>\n",
       "      <td>-1.346764</td>\n",
       "      <td>-2.747324</td>\n",
       "      <td>-1.248431</td>\n",
       "      <td>-5.025914</td>\n",
       "      <td>-5.025914</td>\n",
       "      <td>-1.248431</td>\n",
       "      <td>-1.396379</td>\n",
       "      <td>-4.783467</td>\n",
       "      <td>-4.783467</td>\n",
       "      <td>-1.396379</td>\n",
       "    </tr>\n",
       "  </tbody>\n",
       "</table>\n",
       "<p>5 rows × 325 columns</p>\n",
       "</div>"
      ],
      "text/plain": [
       "   0         1         2         3         4         5         6         7    \\\n",
       "0    1 -0.405533  2.242719  2.242719 -0.405533  0.095136  2.367101  2.367101   \n",
       "1    1 -1.238295 -1.011814 -1.011814 -1.238295 -1.154385 -0.921107 -0.921107   \n",
       "2    1 -0.702202 -2.371735 -2.371735 -0.702202 -0.876015 -1.759448 -1.759448   \n",
       "3    1 -0.909662 -1.737973 -1.737973 -0.909662 -0.800335 -1.861995 -1.861995   \n",
       "4    1 -0.547449 -2.673609 -2.673609 -0.547449 -0.582630 -2.438873 -2.438873   \n",
       "\n",
       "        8         9    ...       315       316       317       318       319  \\\n",
       "0  0.095136  2.161999  ... -0.389916 -1.546940 -0.274864 -3.930365 -3.930365   \n",
       "1 -1.154385 -1.051711  ... -1.623023 -2.470321 -1.540529 -4.600303 -4.600303   \n",
       "2 -0.876015 -2.637602  ... -1.796012 -3.779401 -1.719287 -5.825470 -5.825470   \n",
       "3 -0.800335 -1.643449  ... -1.929824 -3.075712 -1.837234 -5.276139 -5.276139   \n",
       "4 -0.582630 -2.564881  ... -1.346764 -2.747324 -1.248431 -5.025914 -5.025914   \n",
       "\n",
       "        320       321       322       323       324  \n",
       "0 -0.274864 -0.424959 -3.588486 -3.588486 -0.424959  \n",
       "1 -1.540529 -1.686461 -4.496301 -4.496301 -1.686461  \n",
       "2 -1.719287 -1.864409 -5.801907 -5.801907 -1.864409  \n",
       "3 -1.837234 -1.984456 -5.106666 -5.106666 -1.984456  \n",
       "4 -1.248431 -1.396379 -4.783467 -4.783467 -1.396379  \n",
       "\n",
       "[5 rows x 325 columns]"
      ]
     },
     "execution_count": 31,
     "metadata": {
     },
     "output_type": "execute_result"
    }
   ],
   "source": [
    "dfm2 = pd.read_csv('misterious_data_2.txt', header = None, delimiter = \"\\t\")\n",
    "dfm2.head()"
   ]
  },
  {
   "cell_type": "code",
   "execution_count": 32,
   "metadata": {
    "collapsed": false
   },
   "outputs": [
    {
     "data": {
      "text/plain": [
       "1    78\n",
       "2    78\n",
       "3    78\n",
       "Name: 0, dtype: int64"
      ]
     },
     "execution_count": 32,
     "metadata": {
     },
     "output_type": "execute_result"
    }
   ],
   "source": [
    "dfm2.iloc[:,0].value_counts()"
   ]
  },
  {
   "cell_type": "code",
   "execution_count": 33,
   "metadata": {
    "collapsed": false
   },
   "outputs": [
   ],
   "source": [
    "y = dfm2.iloc[:,0]\n",
    "X = dfm2.iloc[:,1:]"
   ]
  },
  {
   "cell_type": "code",
   "execution_count": 34,
   "metadata": {
    "collapsed": false
   },
   "outputs": [
    {
     "data": {
      "text/plain": [
       "[<matplotlib.lines.Line2D at 0x7fcf23b0ca30>]"
      ]
     },
     "execution_count": 34,
     "metadata": {
     },
     "output_type": "execute_result"
    },
    {
     "data": {
      "image/png": "[encoded data removed]",
      "text/plain": [
       "<Figure size 864x504 with 1 Axes>"
      ]
     },
     "execution_count": 34,
     "metadata": {
      "image/png": {
       "height": 411,
       "width": 713
      },
      "needs_background": "light"
     },
     "output_type": "execute_result"
    }
   ],
   "source": [
    "plt.plot(y)"
   ]
  },
  {
   "cell_type": "markdown",
   "metadata": {
    "collapsed": false
   },
   "source": [
    "Como podemos observar, el dataframe viene ordenado según la clase que intentamos predecir, por lo tanto usaremos un K-Fold con shuffle"
   ]
  },
  {
   "cell_type": "code",
   "execution_count": 35,
   "metadata": {
    "collapsed": false
   },
   "outputs": [
   ],
   "source": [
    "kf = KFold(n_splits=5, shuffle = True, random_state = 42)"
   ]
  },
  {
   "cell_type": "code",
   "execution_count": 36,
   "metadata": {
    "collapsed": false
   },
   "outputs": [
   ],
   "source": [
    "acc_per_k = []\n",
    "scores2 = []\n",
    "ks = []\n",
    "k = 1\n",
    "while k <= 40:\n",
    "    neigh = KNeighborsClassifier(n_neighbors=k)\n",
    "    for train_index, test_index in kf.split(X):\n",
    "        X_train, X_test, y_train, y_test = X.iloc[train_index,:], X.iloc[test_index,:], y.iloc[train_index], y.iloc[test_index]\n",
    "        neigh.fit(X_train, y_train)\n",
    "        y_pred = neigh.predict(X_test)\n",
    "        scores2.append(accuracy_score(y_test, y_pred))\n",
    "    acc_per_k.append(statistics.mean(scores2))\n",
    "    scores2 = []\n",
    "    ks.append(k)\n",
    "    k+=1"
   ]
  },
  {
   "cell_type": "code",
   "execution_count": 37,
   "metadata": {
    "collapsed": false,
    "scrolled": true
   },
   "outputs": [
    {
     "data": {
      "text/plain": [
       "[<matplotlib.lines.Line2D at 0x7fcf23a86940>]"
      ]
     },
     "execution_count": 37,
     "metadata": {
     },
     "output_type": "execute_result"
    },
    {
     "data": {
      "image/png": "[encoded data removed]",
      "text/plain": [
       "<Figure size 864x504 with 1 Axes>"
      ]
     },
     "execution_count": 37,
     "metadata": {
      "image/png": {
       "height": 411,
       "width": 713
      },
      "needs_background": "light"
     },
     "output_type": "execute_result"
    }
   ],
   "source": [
    "plt.plot(ks,acc_per_k)"
   ]
  },
  {
   "cell_type": "code",
   "execution_count": 38,
   "metadata": {
    "collapsed": false
   },
   "outputs": [
    {
     "name": "stdout",
     "output_type": "stream",
     "text": [
      "5\n",
      "0.9530989824236817\n"
     ]
    }
   ],
   "source": [
    "kop = ks[acc_per_k.index(max(acc_per_k))]\n",
    "print(kop)\n",
    "print(acc_per_k[ks.index(kop)])"
   ]
  },
  {
   "cell_type": "markdown",
   "metadata": {
    "collapsed": false
   },
   "source": [
    "El valor óptimo de k para los datos probados es 5, alcanzando una precisión del 95.3% al usar el random state de 42 en el K-Fold."
   ]
  },
  {
   "cell_type": "markdown",
   "metadata": {
    "collapsed": false
   },
   "source": [
    "### Con la misma base de datos, calculen la exactitud de un clasificador SVM lineal para diferentes valores del factor de regularización C = 0.000001, 0.000002, 0.000003, 0.000004, 0.000005, 0.000006, 0.000007, ..., 0.0001. De acuerdo a los resultados del apartado anterior, ¿qué valor de este parámetro es el óptimo?"
   ]
  },
  {
   "cell_type": "code",
   "execution_count": 39,
   "metadata": {
    "collapsed": false
   },
   "outputs": [
   ],
   "source": [
    "acc_per_C = []\n",
    "scores2 = []\n",
    "cs = np.arange(0.000001,0.000101,0.000001)\n",
    "kf = KFold(n_splits=5, shuffle = True, random_state = 42)\n",
    "for c in cs:\n",
    "    clf = svm.SVC(C = c, kernel = 'linear')\n",
    "    for train_index, test_index in kf.split(X):\n",
    "        X_train, X_test, y_train, y_test = X.iloc[train_index,:], X.iloc[test_index,:], y.iloc[train_index], y.iloc[test_index]\n",
    "        clf.fit(X_train, y_train)\n",
    "        y_pred = clf.predict(X_test)\n",
    "        scores2.append(accuracy_score(y_test, y_pred))\n",
    "    acc_per_C.append(statistics.mean(scores2))\n",
    "    scores2 = []"
   ]
  },
  {
   "cell_type": "code",
   "execution_count": 40,
   "metadata": {
    "collapsed": false
   },
   "outputs": [
    {
     "data": {
      "text/plain": [
       "[<matplotlib.lines.Line2D at 0x7fcf23a032b0>]"
      ]
     },
     "execution_count": 40,
     "metadata": {
     },
     "output_type": "execute_result"
    },
    {
     "data": {
      "image/png": "[encoded data removed]",
      "text/plain": [
       "<Figure size 864x504 with 1 Axes>"
      ]
     },
     "execution_count": 40,
     "metadata": {
      "image/png": {
       "height": 412,
       "width": 706
      },
      "needs_background": "light"
     },
     "output_type": "execute_result"
    }
   ],
   "source": [
    "plt.plot(cs,acc_per_C)"
   ]
  },
  {
   "cell_type": "code",
   "execution_count": 41,
   "metadata": {
    "collapsed": false
   },
   "outputs": [
    {
     "name": "stdout",
     "output_type": "stream",
     "text": [
      "9.9e-05\n",
      "0.8761332099907493\n"
     ]
    }
   ],
   "source": [
    "cop = cs[acc_per_C.index(max(acc_per_C))]\n",
    "print(cop)\n",
    "print(acc_per_C[list(cs).index(cop)])"
   ]
  },
  {
   "cell_type": "markdown",
   "metadata": {
    "collapsed": false
   },
   "source": [
    "El valor de C que maximiza la precisión del modelo es C=0.000099 que obtiene una precisión del 87.6% usando el random state 42, sin embargo se empieza a estabilizar desde C=0.000030."
   ]
  },
  {
   "cell_type": "markdown",
   "metadata": {
    "collapsed": false
   },
   "source": [
    "### Con la misma base de datos, calculen la exactitud de un clasificador SVM de base radial para diferentes valores del parámetro del kernel gamma = 0.000001. 0.000002. 0.000003. 0.000004. 0.000005. 0.000006, ..., 0.001. De acuerdo a los resultados del apartado anterior, ¿qué valor seleccionarías para este parámetro?"
   ]
  },
  {
   "cell_type": "code",
   "execution_count": 42,
   "metadata": {
    "collapsed": false
   },
   "outputs": [
   ],
   "source": [
    "acc_per_g = []\n",
    "scores2 = []\n",
    "gammas = np.arange(0.000001,0.001001,0.000001)\n",
    "kf = KFold(n_splits=5, shuffle = True, random_state = 42)\n",
    "for g in gammas:\n",
    "    clf = svm.SVC(gamma = g, kernel = 'rbf')\n",
    "    for train_index, test_index in kf.split(X):\n",
    "        X_train, X_test, y_train, y_test = X.iloc[train_index,:], X.iloc[test_index,:], y.iloc[train_index], y.iloc[test_index]\n",
    "        clf.fit(X_train, y_train)\n",
    "        y_pred = clf.predict(X_test)\n",
    "        scores2.append(accuracy_score(y_test, y_pred))\n",
    "    acc_per_g.append(statistics.mean(scores2))\n",
    "    scores2 = []"
   ]
  },
  {
   "cell_type": "code",
   "execution_count": 43,
   "metadata": {
    "collapsed": false
   },
   "outputs": [
    {
     "data": {
      "text/plain": [
       "[<matplotlib.lines.Line2D at 0x7fcf2396bac0>]"
      ]
     },
     "execution_count": 43,
     "metadata": {
     },
     "output_type": "execute_result"
    },
    {
     "data": {
      "image/png": "[encoded data removed]",
      "text/plain": [
       "<Figure size 864x504 with 1 Axes>"
      ]
     },
     "execution_count": 43,
     "metadata": {
      "image/png": {
       "height": 411,
       "width": 706
      },
      "needs_background": "light"
     },
     "output_type": "execute_result"
    }
   ],
   "source": [
    "plt.plot(gammas,acc_per_g)"
   ]
  },
  {
   "cell_type": "code",
   "execution_count": 44,
   "metadata": {
    "collapsed": false,
    "scrolled": true
   },
   "outputs": [
    {
     "name": "stdout",
     "output_type": "stream",
     "text": [
      "0.0008269999999999999\n",
      "0.9358926919518964\n"
     ]
    }
   ],
   "source": [
    "gop = gammas[acc_per_g.index(max(acc_per_g))]\n",
    "print(gop)\n",
    "print(acc_per_g[list(gammas).index(gop)])"
   ]
  },
  {
   "cell_type": "markdown",
   "metadata": {
    "collapsed": false
   },
   "source": [
    "El valor de gamma que maximiza la precisión del modelo es gamma = 0.000827 que alcanza una precisión del 93.6% con el random state 42."
   ]
  },
  {
   "cell_type": "markdown",
   "metadata": {
    "collapsed": false
   },
   "source": [
    "## Problema 5"
   ]
  },
  {
   "cell_type": "code",
   "execution_count": 117,
   "metadata": {
    "collapsed": false
   },
   "outputs": [
    {
     "name": "stderr",
     "output_type": "stream",
     "text": [
      "<ipython-input-117-e876f6b3944a>:1: ParserWarning: Falling back to the 'python' engine because the 'c' engine does not support regex separators (separators > 1 char and different from '\\s+' are interpreted as regex); you can avoid this warning by specifying engine='python'.\n",
      "  dfm3 = pd.read_csv('misterious_data_3.txt', header = None, delimiter = \"   \")\n"
     ]
    },
    {
     "data": {
      "text/html": [
       "<div>\n",
       "<style scoped>\n",
       "    .dataframe tbody tr th:only-of-type {\n",
       "        vertical-align: middle;\n",
       "    }\n",
       "\n",
       "    .dataframe tbody tr th {\n",
       "        vertical-align: top;\n",
       "    }\n",
       "\n",
       "    .dataframe thead th {\n",
       "        text-align: right;\n",
       "    }\n",
       "</style>\n",
       "<table border=\"1\" class=\"dataframe\">\n",
       "  <thead>\n",
       "    <tr style=\"text-align: right;\">\n",
       "      <th></th>\n",
       "      <th>0</th>\n",
       "      <th>1</th>\n",
       "      <th>2</th>\n",
       "      <th>3</th>\n",
       "      <th>4</th>\n",
       "      <th>5</th>\n",
       "      <th>6</th>\n",
       "      <th>7</th>\n",
       "      <th>8</th>\n",
       "      <th>9</th>\n",
       "      <th>...</th>\n",
       "      <th>144</th>\n",
       "      <th>145</th>\n",
       "      <th>146</th>\n",
       "      <th>147</th>\n",
       "      <th>148</th>\n",
       "      <th>149</th>\n",
       "      <th>150</th>\n",
       "      <th>151</th>\n",
       "      <th>152</th>\n",
       "      <th>153</th>\n",
       "    </tr>\n",
       "  </thead>\n",
       "  <tbody>\n",
       "    <tr>\n",
       "      <th>0</th>\n",
       "      <td>1</td>\n",
       "      <td>0.469168</td>\n",
       "      <td>0.178952</td>\n",
       "      <td>0.255712</td>\n",
       "      <td>0.744816</td>\n",
       "      <td>1.246886</td>\n",
       "      <td>1.254866</td>\n",
       "      <td>0.804426</td>\n",
       "      <td>0.412733</td>\n",
       "      <td>0.258974</td>\n",
       "      <td>...</td>\n",
       "      <td>0.993407</td>\n",
       "      <td>-0.592111</td>\n",
       "      <td>-1.301687</td>\n",
       "      <td>-1.066966</td>\n",
       "      <td>-0.722061</td>\n",
       "      <td>-0.622120</td>\n",
       "      <td>-0.396476</td>\n",
       "      <td>0.133550</td>\n",
       "      <td>0.594973</td>\n",
       "      <td>0.691093</td>\n",
       "    </tr>\n",
       "    <tr>\n",
       "      <th>1</th>\n",
       "      <td>1</td>\n",
       "      <td>0.184388</td>\n",
       "      <td>0.194901</td>\n",
       "      <td>0.386090</td>\n",
       "      <td>0.796802</td>\n",
       "      <td>1.066347</td>\n",
       "      <td>0.799498</td>\n",
       "      <td>0.074394</td>\n",
       "      <td>-0.544738</td>\n",
       "      <td>-0.580456</td>\n",
       "      <td>...</td>\n",
       "      <td>-0.003908</td>\n",
       "      <td>-0.167604</td>\n",
       "      <td>-0.428945</td>\n",
       "      <td>-0.725686</td>\n",
       "      <td>-1.053406</td>\n",
       "      <td>-1.276862</td>\n",
       "      <td>-1.183251</td>\n",
       "      <td>-0.693138</td>\n",
       "      <td>0.016754</td>\n",
       "      <td>0.573650</td>\n",
       "    </tr>\n",
       "    <tr>\n",
       "      <th>2</th>\n",
       "      <td>1</td>\n",
       "      <td>-0.173341</td>\n",
       "      <td>0.145202</td>\n",
       "      <td>-0.304082</td>\n",
       "      <td>-1.414886</td>\n",
       "      <td>-2.213521</td>\n",
       "      <td>-1.913048</td>\n",
       "      <td>-0.831063</td>\n",
       "      <td>-0.007732</td>\n",
       "      <td>0.002380</td>\n",
       "      <td>...</td>\n",
       "      <td>1.902134</td>\n",
       "      <td>3.393694</td>\n",
       "      <td>3.131702</td>\n",
       "      <td>1.403325</td>\n",
       "      <td>-0.030289</td>\n",
       "      <td>-0.271096</td>\n",
       "      <td>-0.198293</td>\n",
       "      <td>-0.751224</td>\n",
       "      <td>-1.350148</td>\n",
       "      <td>-0.882644</td>\n",
       "    </tr>\n",
       "    <tr>\n",
       "      <th>3</th>\n",
       "      <td>1</td>\n",
       "      <td>-0.268590</td>\n",
       "      <td>0.599522</td>\n",
       "      <td>1.307578</td>\n",
       "      <td>1.167486</td>\n",
       "      <td>0.251935</td>\n",
       "      <td>-0.585627</td>\n",
       "      <td>-0.553452</td>\n",
       "      <td>0.185590</td>\n",
       "      <td>0.613321</td>\n",
       "      <td>...</td>\n",
       "      <td>-1.296833</td>\n",
       "      <td>-0.876860</td>\n",
       "      <td>-1.043880</td>\n",
       "      <td>-1.516590</td>\n",
       "      <td>-1.531095</td>\n",
       "      <td>-1.016308</td>\n",
       "      <td>-0.483549</td>\n",
       "      <td>-0.267818</td>\n",
       "      <td>-0.367672</td>\n",
       "      <td>-0.666145</td>\n",
       "    </tr>\n",
       "    <tr>\n",
       "      <th>4</th>\n",
       "      <td>1</td>\n",
       "      <td>2.525379</td>\n",
       "      <td>2.852672</td>\n",
       "      <td>2.172197</td>\n",
       "      <td>0.637552</td>\n",
       "      <td>-0.600348</td>\n",
       "      <td>-0.702175</td>\n",
       "      <td>-0.074887</td>\n",
       "      <td>0.279032</td>\n",
       "      <td>-0.025487</td>\n",
       "      <td>...</td>\n",
       "      <td>-0.890283</td>\n",
       "      <td>-0.624969</td>\n",
       "      <td>-0.753863</td>\n",
       "      <td>-0.854603</td>\n",
       "      <td>-0.736751</td>\n",
       "      <td>-0.614611</td>\n",
       "      <td>-0.587151</td>\n",
       "      <td>-0.409589</td>\n",
       "      <td>0.087732</td>\n",
       "      <td>0.646462</td>\n",
       "    </tr>\n",
       "  </tbody>\n",
       "</table>\n",
       "<p>5 rows × 154 columns</p>\n",
       "</div>"
      ],
      "text/plain": [
       "   0         1         2         3         4         5         6         7    \\\n",
       "0    1  0.469168  0.178952  0.255712  0.744816  1.246886  1.254866  0.804426   \n",
       "1    1  0.184388  0.194901  0.386090  0.796802  1.066347  0.799498  0.074394   \n",
       "2    1 -0.173341  0.145202 -0.304082 -1.414886 -2.213521 -1.913048 -0.831063   \n",
       "3    1 -0.268590  0.599522  1.307578  1.167486  0.251935 -0.585627 -0.553452   \n",
       "4    1  2.525379  2.852672  2.172197  0.637552 -0.600348 -0.702175 -0.074887   \n",
       "\n",
       "        8         9    ...       144       145       146       147       148  \\\n",
       "0  0.412733  0.258974  ...  0.993407 -0.592111 -1.301687 -1.066966 -0.722061   \n",
       "1 -0.544738 -0.580456  ... -0.003908 -0.167604 -0.428945 -0.725686 -1.053406   \n",
       "2 -0.007732  0.002380  ...  1.902134  3.393694  3.131702  1.403325 -0.030289   \n",
       "3  0.185590  0.613321  ... -1.296833 -0.876860 -1.043880 -1.516590 -1.531095   \n",
       "4  0.279032 -0.025487  ... -0.890283 -0.624969 -0.753863 -0.854603 -0.736751   \n",
       "\n",
       "        149       150       151       152       153  \n",
       "0 -0.622120 -0.396476  0.133550  0.594973  0.691093  \n",
       "1 -1.276862 -1.183251 -0.693138  0.016754  0.573650  \n",
       "2 -0.271096 -0.198293 -0.751224 -1.350148 -0.882644  \n",
       "3 -1.016308 -0.483549 -0.267818 -0.367672 -0.666145  \n",
       "4 -0.614611 -0.587151 -0.409589  0.087732  0.646462  \n",
       "\n",
       "[5 rows x 154 columns]"
      ]
     },
     "execution_count": 117,
     "metadata": {
     },
     "output_type": "execute_result"
    }
   ],
   "source": [
    "dfm3 = pd.read_csv('misterious_data_3.txt', header = None, delimiter = \"   \")\n",
    "dfm3.head()"
   ]
  },
  {
   "cell_type": "markdown",
   "metadata": {
    "collapsed": false
   },
   "source": [
    "### Carguen la base de datos misteriosa 3  descargar, y evalúen el rendimiento de un clasificador SVM lineal. Calcula para ello el recall por clase, la precisión por clase y la exactitud del clasificador. De acuerdo al recall por clase obtenido"
   ]
  },
  {
   "cell_type": "code",
   "execution_count": 118,
   "metadata": {
    "collapsed": false
   },
   "outputs": [
    {
     "data": {
      "text/plain": [
       "2    1323\n",
       "1     264\n",
       "Name: 0, dtype: int64"
      ]
     },
     "execution_count": 118,
     "metadata": {
     },
     "output_type": "execute_result"
    }
   ],
   "source": [
    "xm3 = dfm3.iloc[:,1:]\n",
    "ym3 = dfm3.iloc[:,0]\n",
    "ym3.value_counts()"
   ]
  },
  {
   "cell_type": "code",
   "execution_count": 119,
   "metadata": {
    "collapsed": false
   },
   "outputs": [
    {
     "data": {
      "text/plain": [
       "[<matplotlib.lines.Line2D at 0x7fcf20160a60>]"
      ]
     },
     "execution_count": 119,
     "metadata": {
     },
     "output_type": "execute_result"
    },
    {
     "data": {
      "image/png": "[encoded data removed]",
      "text/plain": [
       "<Figure size 864x504 with 1 Axes>"
      ]
     },
     "execution_count": 119,
     "metadata": {
      "image/png": {
       "height": 411,
       "width": 706
      },
      "needs_background": "light"
     },
     "output_type": "execute_result"
    }
   ],
   "source": [
    "plt.plot(ym3)"
   ]
  },
  {
   "cell_type": "code",
   "execution_count": 120,
   "metadata": {
    "collapsed": false
   },
   "outputs": [
   ],
   "source": [
    "\n",
    "kf = KFold(n_splits=5, shuffle = True, random_state = 424)\n",
    "clf = svm.SVC(kernel = 'linear')\n",
    "\n",
    "acc = 0\n",
    "rec = np.array([0., 0.])\n",
    "pre = np.array([0., 0.])"
   ]
  },
  {
   "cell_type": "code",
   "execution_count": 121,
   "metadata": {
    "collapsed": false
   },
   "outputs": [
   ],
   "source": [
    "from sklearn.model_selection import StratifiedKFold\n",
    "skf = StratifiedKFold(n_splits=5)\n",
    "\n",
    "for train_index, test_index in skf.split(xm3, ym3):\n",
    "    xm3_train, xm3_test = xm3.iloc[train_index], xm3.iloc[test_index]\n",
    "    ym3_train, ym3_test = ym3.iloc[train_index], ym3.iloc[test_index]\n",
    "    clf.fit(xm3_train, ym3_train)\n",
    "    ym3_pred = clf.predict(xm3_test)\n",
    "    acc+=(accuracy_score(ym3_test, ym3_pred))\n",
    "    rec+=(recall_score(ym3_test, ym3_pred, average=None))\n",
    "    pre+=(precision_score(ym3_test, ym3_pred, average=None))\n",
    "\n",
    "acc = acc/5\n",
    "rec = rec/5\n",
    "pre = pre/5"
   ]
  },
  {
   "cell_type": "code",
   "execution_count": 122,
   "metadata": {
    "collapsed": false
   },
   "outputs": [
    {
     "name": "stdout",
     "output_type": "stream",
     "text": [
      "Accuracy:  0.8941432057615618\n",
      "Recall:  [0.61001451 0.9508805 ]\n",
      "Precision:  [0.71532519 0.92437579]\n"
     ]
    }
   ],
   "source": [
    "print(\"Accuracy: \",acc)\n",
    "print(\"Recall: \",rec)\n",
    "print(\"Precision: \",pre)"
   ]
  },
  {
   "cell_type": "markdown",
   "metadata": {
    "collapsed": false
   },
   "source": [
    "### ¿Consideras que el clasificador tiene un buen rendimiento?"
   ]
  },
  {
   "cell_type": "markdown",
   "metadata": {
    "collapsed": false
   },
   "source": [
    "No. Si bien la exactitud es del 89.4%, se tiene que observar que el recall y la precisión para la clase 1 no son tan buenos (61% y 71.5% respectivamente). Es decir, el clasificador no está haciendo un buen trabajo para una de las clases, aquella con menor cantidad de observaciones."
   ]
  },
  {
   "cell_type": "markdown",
   "metadata": {
    "collapsed": false
   },
   "source": [
    "### Balancea la muestra utilizando submuestreo para la clase con más observaciones."
   ]
  },
  {
   "cell_type": "code",
   "execution_count": 123,
   "metadata": {
    "collapsed": false
   },
   "outputs": [
   ],
   "source": [
    "dfm3_sub = dfm3.iloc[:528,:]"
   ]
  },
  {
   "cell_type": "code",
   "execution_count": 124,
   "metadata": {
    "collapsed": false
   },
   "outputs": [
    {
     "data": {
      "text/plain": [
       "1    264\n",
       "2    264\n",
       "Name: 0, dtype: int64"
      ]
     },
     "execution_count": 124,
     "metadata": {
     },
     "output_type": "execute_result"
    }
   ],
   "source": [
    "xm3_sub = dfm3_sub.iloc[:,1:]\n",
    "ym3_sub = dfm3_sub.iloc[:,0]\n",
    "ym3_sub.value_counts()"
   ]
  },
  {
   "cell_type": "code",
   "execution_count": 125,
   "metadata": {
    "collapsed": false
   },
   "outputs": [
   ],
   "source": [
    "\n",
    "skf = StratifiedKFold(n_splits=5)\n",
    "\n",
    "acc = 0\n",
    "rec = np.array([0., 0.])\n",
    "pre = np.array([0., 0.])\n",
    "\n",
    "for train_index, test_index in skf.split(xm3_sub, ym3_sub):\n",
    "    xm3_train, xm3_test = xm3_sub.iloc[train_index], xm3_sub.iloc[test_index]\n",
    "    ym3_train, ym3_test = ym3_sub.iloc[train_index], ym3_sub.iloc[test_index]\n",
    "    clf.fit(xm3_train, ym3_train)\n",
    "    ym3_pred = clf.predict(xm3_test)\n",
    "    acc+=(accuracy_score(ym3_test, ym3_pred))\n",
    "    rec+=(recall_score(ym3_test, ym3_pred, average=None))\n",
    "    pre+=(precision_score(ym3_test, ym3_pred, average=None))\n",
    "\n",
    "acc = acc/5\n",
    "rec = rec/5\n",
    "pre = pre/5"
   ]
  },
  {
   "cell_type": "code",
   "execution_count": 126,
   "metadata": {
    "collapsed": false
   },
   "outputs": [
    {
     "name": "stdout",
     "output_type": "stream",
     "text": [
      "Accuracy:  0.7821383647798742\n",
      "Recall:  [0.77285922 0.79143687]\n",
      "Precision:  [0.78988389 0.77827668]\n"
     ]
    }
   ],
   "source": [
    "print(\"Accuracy: \",acc)\n",
    "print(\"Recall: \",rec)\n",
    "print(\"Precision: \",pre)"
   ]
  },
  {
   "cell_type": "markdown",
   "metadata": {
    "collapsed": false
   },
   "source": [
    "### ¿Se observa una mejor exactitud en el clasificador?"
   ]
  },
  {
   "cell_type": "markdown",
   "metadata": {
    "collapsed": false
   },
   "source": [
    "No se observa mejora en la exactitud. Además, mientras se nota que los indicadores de la clase 1 mejoran, los de la clase que tenía más observaciones empeoraron."
   ]
  },
  {
   "cell_type": "markdown",
   "metadata": {
    "collapsed": false
   },
   "source": [
    "### Balancea la muestra utilizando sobremuestreo para la clase con menos observaciones."
   ]
  },
  {
   "cell_type": "code",
   "execution_count": 127,
   "metadata": {
    "collapsed": false
   },
   "outputs": [
   ],
   "source": [
    "clf = svm.SVC(kernel = 'linear')\n",
    "\n",
    "\n",
    "kf = KFold(n_splits=5, shuffle = True, random_state = 42)\n",
    "clf = svm.SVC(kernel = 'linear')\n",
    "\n",
    "acc = 0\n",
    "rec = np.array([0., 0.])\n",
    "pre = np.array([0., 0.])"
   ]
  },
  {
   "cell_type": "code",
   "execution_count": 128,
   "metadata": {
    "collapsed": false
   },
   "outputs": [
    {
     "name": "stdout",
     "output_type": "stream",
     "text": [
      "Counter({2: 1323, 1: 264})\n",
      "Counter({1: 1323, 2: 1323})\n"
     ]
    }
   ],
   "source": [
    "from collections import Counter\n",
    "from sklearn.datasets import make_classification\n",
    "from imblearn.over_sampling import RandomOverSampler\n",
    "# summarize class distribution\n",
    "print(Counter(ym3))\n",
    "# define oversampling strategy\n",
    "oversample = RandomOverSampler(sampling_strategy='minority')\n",
    "# fit and apply the transform\n",
    "xm3_over, ym3_over = oversample.fit_resample(xm3, ym3)\n",
    "# summarize class distribution\n",
    "print(Counter(ym3_over))"
   ]
  },
  {
   "cell_type": "code",
   "execution_count": 133,
   "metadata": {
    "collapsed": false
   },
   "outputs": [
   ],
   "source": [
    "\n",
    "skf = StratifiedKFold(n_splits=5)\n",
    "\n",
    "acc = 0\n",
    "rec = np.array([0., 0.])\n",
    "pre = np.array([0., 0.])\n",
    "\n",
    "for train_index, test_index in skf.split(xm3_over, ym3_over):\n",
    "    xm3_over_train, xm3_over_test = xm3_over.iloc[train_index], xm3_over.iloc[test_index]\n",
    "    ym3_over_train, ym3_over_test = ym3_over.iloc[train_index], ym3_over.iloc[test_index]\n",
    "    clf.fit(xm3_over_train, ym3_over_train)\n",
    "    ym3_over_pred = clf.predict(xm3_over_test)\n",
    "    acc+=(accuracy_score(ym3_over_test, ym3_over_pred))\n",
    "    rec+=(recall_score(ym3_over_test, ym3_over_pred, average=None))\n",
    "    pre+=(precision_score(ym3_over_test, ym3_over_pred, average=None))\n",
    "\n",
    "acc = acc/5\n",
    "rec = rec/5\n",
    "pre = pre/5"
   ]
  },
  {
   "cell_type": "code",
   "execution_count": 132,
   "metadata": {
    "collapsed": false
   },
   "outputs": [
    {
     "name": "stdout",
     "output_type": "stream",
     "text": [
      "Accuracy:  0.8847344580375933\n",
      "Recall:  [0.91007147 0.85941109]\n",
      "Precision:  [0.86617235 0.90543183]\n"
     ]
    }
   ],
   "source": [
    "print(\"Accuracy: \",acc)\n",
    "print(\"Recall: \",rec)\n",
    "print(\"Precision: \",pre)"
   ]
  },
  {
   "cell_type": "markdown",
   "metadata": {
    "collapsed": false
   },
   "source": [
    "### ¿Se observa una mejor exactitud en el clasificador?"
   ]
  },
  {
   "cell_type": "markdown",
   "metadata": {
    "collapsed": false
   },
   "source": [
    "Mediante el sobremuestreo se mejoran todas las evaluaciones obtenida por submuestreo. Por otro lado, no supera la exactitud del modelo sin el uso de estas técnicas, aunque sí mejor la identificación de la clase que originalmente daba problemas."
   ]
  },
  {
   "cell_type": "markdown",
   "metadata": {
    "collapsed": false
   },
   "source": [
    "### Con los datos originales, indica al clasificador SVM que la muestra debe ser balanceada (parámetro class_weight='balanced'). "
   ]
  },
  {
   "cell_type": "code",
   "execution_count": 136,
   "metadata": {
    "collapsed": false
   },
   "outputs": [
   ],
   "source": [
    "clf = svm.SVC(kernel = 'linear', class_weight='balanced')\n",
    "\n",
    "acc = 0\n",
    "rec = np.array([0., 0.])\n",
    "pre = np.array([0., 0.])\n",
    "\n",
    "from sklearn.model_selection import StratifiedKFold\n",
    "skf = StratifiedKFold(n_splits=5)\n",
    "\n",
    "for train_index, test_index in skf.split(xm3, ym3):\n",
    "    xm3_train, xm3_test = xm3.iloc[train_index], xm3.iloc[test_index]\n",
    "    ym3_train, ym3_test = ym3.iloc[train_index], ym3.iloc[test_index]\n",
    "    clf.fit(xm3_train, ym3_train)\n",
    "    ym3_pred = clf.predict(xm3_test)\n",
    "    acc+=(accuracy_score(ym3_test, ym3_pred))\n",
    "    rec+=(recall_score(ym3_test, ym3_pred, average=None))\n",
    "    pre+=(precision_score(ym3_test, ym3_pred, average=None))\n",
    "\n",
    "acc = acc/5\n",
    "rec = rec/5\n",
    "pre = pre/5"
   ]
  },
  {
   "cell_type": "code",
   "execution_count": 137,
   "metadata": {
    "collapsed": false
   },
   "outputs": [
    {
     "name": "stdout",
     "output_type": "stream",
     "text": [
      "Accuracy:  0.8987273959410779\n",
      "Recall:  [0.92217267 0.87528588]\n",
      "Precision:  [0.88080872 0.91987773]\n"
     ]
    }
   ],
   "source": [
    "print(\"Accuracy: \",acc)\n",
    "print(\"Recall: \",rec)\n",
    "print(\"Precision: \",pre)"
   ]
  },
  {
   "cell_type": "markdown",
   "metadata": {
    "collapsed": false
   },
   "source": [
    "### ¿Observas alguna mejora respecto al primer punto?"
   ]
  },
  {
   "cell_type": "markdown",
   "metadata": {
    "collapsed": false
   },
   "source": [
    "La mejora de la exactitud es casi imperceptible porque solo hay una mejora de .0046, los clasificadores de la clase 1 mejoran notablemente mientras que por su parte los indicadores de la clase 2 se entorpecen un poco."
   ]
  }
 ],
 "metadata": {
  "kernelspec": {
   "display_name": "Python 3 (system-wide)",
   "language": "python",
   "metadata": {
    "cocalc": {
     "description": "Python 3 programming language",
     "priority": 100,
     "url": "https://www.python.org/"
    }
   },
   "name": "python3",
   "resource_dir": "/ext/jupyter/kernels/python3"
  },
  "language_info": {
   "codemirror_mode": {
    "name": "ipython",
    "version": 3
   },
   "file_extension": ".py",
   "mimetype": "text/x-python",
   "name": "python",
   "nbconvert_exporter": "python",
   "pygments_lexer": "ipython3",
   "version": "3.8.5"
  }
 },
 "nbformat": 4,
 "nbformat_minor": 4
}